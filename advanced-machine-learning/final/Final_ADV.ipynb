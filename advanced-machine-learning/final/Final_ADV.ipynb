{
 "cells": [
  {
   "cell_type": "markdown",
   "metadata": {},
   "source": [
    "Рассмотрим основные моменты не вошедшие в предыдущие лекции"
   ]
  },
  {
   "cell_type": "markdown",
   "metadata": {},
   "source": [
    "Обновим и подключим библиотеки:"
   ]
  },
  {
   "cell_type": "code",
   "execution_count": 154,
   "metadata": {},
   "outputs": [
    {
     "name": "stdout",
     "output_type": "stream",
     "text": [
      "Requirement already up-to-date: pip in /work/Projects/ITMO/data-analysis-and-processing/.venv/lib/python3.6/site-packages (20.1.1)\r\n",
      "Requirement already up-to-date: scikit-learn==0.23.0 in /work/Projects/ITMO/data-analysis-and-processing/.venv/lib/python3.6/site-packages (0.23.0)\r\n",
      "Requirement already satisfied, skipping upgrade: scipy>=0.19.1 in /work/Projects/ITMO/data-analysis-and-processing/.venv/lib/python3.6/site-packages (from scikit-learn==0.23.0) (1.4.1)\r\n",
      "Requirement already satisfied, skipping upgrade: numpy>=1.13.3 in /work/Projects/ITMO/data-analysis-and-processing/.venv/lib/python3.6/site-packages (from scikit-learn==0.23.0) (1.18.2)\r\n",
      "Requirement already satisfied, skipping upgrade: threadpoolctl>=2.0.0 in /work/Projects/ITMO/data-analysis-and-processing/.venv/lib/python3.6/site-packages (from scikit-learn==0.23.0) (2.1.0)\r\n",
      "Requirement already satisfied, skipping upgrade: joblib>=0.11 in /work/Projects/ITMO/data-analysis-and-processing/.venv/lib/python3.6/site-packages (from scikit-learn==0.23.0) (0.14.1)\r\n",
      "Requirement already satisfied: keras in /work/Projects/ITMO/data-analysis-and-processing/.venv/lib/python3.6/site-packages (2.3.1)\r\n",
      "Requirement already satisfied: tensorflow in /work/Projects/ITMO/data-analysis-and-processing/.venv/lib/python3.6/site-packages (2.2.0)\r\n",
      "Requirement already satisfied: numpy>=1.9.1 in /work/Projects/ITMO/data-analysis-and-processing/.venv/lib/python3.6/site-packages (from keras) (1.18.2)\r\n",
      "Requirement already satisfied: scipy>=0.14 in /work/Projects/ITMO/data-analysis-and-processing/.venv/lib/python3.6/site-packages (from keras) (1.4.1)\r\n",
      "Requirement already satisfied: h5py in /work/Projects/ITMO/data-analysis-and-processing/.venv/lib/python3.6/site-packages (from keras) (2.10.0)\r\n",
      "Requirement already satisfied: six>=1.9.0 in /work/Projects/ITMO/data-analysis-and-processing/.venv/lib/python3.6/site-packages (from keras) (1.14.0)\r\n",
      "Requirement already satisfied: keras-preprocessing>=1.0.5 in /work/Projects/ITMO/data-analysis-and-processing/.venv/lib/python3.6/site-packages (from keras) (1.1.2)\r\n",
      "Requirement already satisfied: pyyaml in /work/Projects/ITMO/data-analysis-and-processing/.venv/lib/python3.6/site-packages (from keras) (5.3.1)\r\n",
      "Requirement already satisfied: keras-applications>=1.0.6 in /work/Projects/ITMO/data-analysis-and-processing/.venv/lib/python3.6/site-packages (from keras) (1.0.8)\r\n",
      "Requirement already satisfied: tensorboard<2.3.0,>=2.2.0 in /work/Projects/ITMO/data-analysis-and-processing/.venv/lib/python3.6/site-packages (from tensorflow) (2.2.2)\r\n",
      "Requirement already satisfied: tensorflow-estimator<2.3.0,>=2.2.0 in /work/Projects/ITMO/data-analysis-and-processing/.venv/lib/python3.6/site-packages (from tensorflow) (2.2.0)\r\n",
      "Requirement already satisfied: wrapt>=1.11.1 in /work/Projects/ITMO/data-analysis-and-processing/.venv/lib/python3.6/site-packages (from tensorflow) (1.12.1)\r\n",
      "Requirement already satisfied: protobuf>=3.8.0 in /work/Projects/ITMO/data-analysis-and-processing/.venv/lib/python3.6/site-packages (from tensorflow) (3.12.2)\r\n",
      "Requirement already satisfied: grpcio>=1.8.6 in /work/Projects/ITMO/data-analysis-and-processing/.venv/lib/python3.6/site-packages (from tensorflow) (1.29.0)\r\n",
      "Requirement already satisfied: termcolor>=1.1.0 in /work/Projects/ITMO/data-analysis-and-processing/.venv/lib/python3.6/site-packages (from tensorflow) (1.1.0)\r\n",
      "Requirement already satisfied: absl-py>=0.7.0 in /work/Projects/ITMO/data-analysis-and-processing/.venv/lib/python3.6/site-packages (from tensorflow) (0.9.0)\r\n",
      "Requirement already satisfied: astunparse==1.6.3 in /work/Projects/ITMO/data-analysis-and-processing/.venv/lib/python3.6/site-packages (from tensorflow) (1.6.3)\r\n",
      "Requirement already satisfied: gast==0.3.3 in /work/Projects/ITMO/data-analysis-and-processing/.venv/lib/python3.6/site-packages (from tensorflow) (0.3.3)\r\n",
      "Requirement already satisfied: wheel>=0.26; python_version >= \"3\" in /work/Projects/ITMO/data-analysis-and-processing/.venv/lib/python3.6/site-packages (from tensorflow) (0.34.2)\r\n",
      "Requirement already satisfied: opt-einsum>=2.3.2 in /work/Projects/ITMO/data-analysis-and-processing/.venv/lib/python3.6/site-packages (from tensorflow) (3.2.1)\r\n",
      "Requirement already satisfied: google-pasta>=0.1.8 in /work/Projects/ITMO/data-analysis-and-processing/.venv/lib/python3.6/site-packages (from tensorflow) (0.2.0)\r\n",
      "Requirement already satisfied: werkzeug>=0.11.15 in /work/Projects/ITMO/data-analysis-and-processing/.venv/lib/python3.6/site-packages (from tensorboard<2.3.0,>=2.2.0->tensorflow) (1.0.1)\r\n",
      "Requirement already satisfied: google-auth-oauthlib<0.5,>=0.4.1 in /work/Projects/ITMO/data-analysis-and-processing/.venv/lib/python3.6/site-packages (from tensorboard<2.3.0,>=2.2.0->tensorflow) (0.4.1)\r\n",
      "Requirement already satisfied: google-auth<2,>=1.6.3 in /work/Projects/ITMO/data-analysis-and-processing/.venv/lib/python3.6/site-packages (from tensorboard<2.3.0,>=2.2.0->tensorflow) (1.16.1)\r\n",
      "Requirement already satisfied: setuptools>=41.0.0 in /work/Projects/ITMO/data-analysis-and-processing/.venv/lib/python3.6/site-packages (from tensorboard<2.3.0,>=2.2.0->tensorflow) (47.1.1)\r\n",
      "Requirement already satisfied: tensorboard-plugin-wit>=1.6.0 in /work/Projects/ITMO/data-analysis-and-processing/.venv/lib/python3.6/site-packages (from tensorboard<2.3.0,>=2.2.0->tensorflow) (1.6.0.post3)\r\n",
      "Requirement already satisfied: markdown>=2.6.8 in /work/Projects/ITMO/data-analysis-and-processing/.venv/lib/python3.6/site-packages (from tensorboard<2.3.0,>=2.2.0->tensorflow) (3.2.2)\r\n",
      "Requirement already satisfied: requests<3,>=2.21.0 in /work/Projects/ITMO/data-analysis-and-processing/.venv/lib/python3.6/site-packages (from tensorboard<2.3.0,>=2.2.0->tensorflow) (2.23.0)\r\n",
      "Requirement already satisfied: requests-oauthlib>=0.7.0 in /work/Projects/ITMO/data-analysis-and-processing/.venv/lib/python3.6/site-packages (from google-auth-oauthlib<0.5,>=0.4.1->tensorboard<2.3.0,>=2.2.0->tensorflow) (1.3.0)\r\n",
      "Requirement already satisfied: rsa<4.1,>=3.1.4 in /work/Projects/ITMO/data-analysis-and-processing/.venv/lib/python3.6/site-packages (from google-auth<2,>=1.6.3->tensorboard<2.3.0,>=2.2.0->tensorflow) (4.0)\r\n",
      "Requirement already satisfied: cachetools<5.0,>=2.0.0 in /work/Projects/ITMO/data-analysis-and-processing/.venv/lib/python3.6/site-packages (from google-auth<2,>=1.6.3->tensorboard<2.3.0,>=2.2.0->tensorflow) (4.1.0)\r\n",
      "Requirement already satisfied: pyasn1-modules>=0.2.1 in /work/Projects/ITMO/data-analysis-and-processing/.venv/lib/python3.6/site-packages (from google-auth<2,>=1.6.3->tensorboard<2.3.0,>=2.2.0->tensorflow) (0.2.8)\r\n",
      "Requirement already satisfied: importlib-metadata; python_version < \"3.8\" in /work/Projects/ITMO/data-analysis-and-processing/.venv/lib/python3.6/site-packages (from markdown>=2.6.8->tensorboard<2.3.0,>=2.2.0->tensorflow) (1.6.0)\r\n",
      "Requirement already satisfied: certifi>=2017.4.17 in /work/Projects/ITMO/data-analysis-and-processing/.venv/lib/python3.6/site-packages (from requests<3,>=2.21.0->tensorboard<2.3.0,>=2.2.0->tensorflow) (2020.4.5.2)\r\n",
      "Requirement already satisfied: chardet<4,>=3.0.2 in /work/Projects/ITMO/data-analysis-and-processing/.venv/lib/python3.6/site-packages (from requests<3,>=2.21.0->tensorboard<2.3.0,>=2.2.0->tensorflow) (3.0.4)\r\n",
      "Requirement already satisfied: idna<3,>=2.5 in /work/Projects/ITMO/data-analysis-and-processing/.venv/lib/python3.6/site-packages (from requests<3,>=2.21.0->tensorboard<2.3.0,>=2.2.0->tensorflow) (2.9)\r\n",
      "Requirement already satisfied: urllib3!=1.25.0,!=1.25.1,<1.26,>=1.21.1 in /work/Projects/ITMO/data-analysis-and-processing/.venv/lib/python3.6/site-packages (from requests<3,>=2.21.0->tensorboard<2.3.0,>=2.2.0->tensorflow) (1.25.9)\r\n",
      "Requirement already satisfied: oauthlib>=3.0.0 in /work/Projects/ITMO/data-analysis-and-processing/.venv/lib/python3.6/site-packages (from requests-oauthlib>=0.7.0->google-auth-oauthlib<0.5,>=0.4.1->tensorboard<2.3.0,>=2.2.0->tensorflow) (3.1.0)\r\n",
      "Requirement already satisfied: pyasn1>=0.1.3 in /work/Projects/ITMO/data-analysis-and-processing/.venv/lib/python3.6/site-packages (from rsa<4.1,>=3.1.4->google-auth<2,>=1.6.3->tensorboard<2.3.0,>=2.2.0->tensorflow) (0.4.8)\r\n",
      "Requirement already satisfied: zipp>=0.5 in /work/Projects/ITMO/data-analysis-and-processing/.venv/lib/python3.6/site-packages (from importlib-metadata; python_version < \"3.8\"->markdown>=2.6.8->tensorboard<2.3.0,>=2.2.0->tensorflow) (3.1.0)\r\n"
     ]
    }
   ],
   "source": [
    "!pip install --upgrade pip\n",
    "!pip install --upgrade scikit-learn==0.23.0\n",
    "\n",
    "!pip install keras tensorflow"
   ]
  },
  {
   "cell_type": "code",
   "execution_count": 155,
   "metadata": {},
   "outputs": [],
   "source": [
    "import numpy as np\n",
    "import matplotlib\n",
    "import matplotlib.pyplot as plt\n",
    "%matplotlib inline"
   ]
  },
  {
   "cell_type": "markdown",
   "metadata": {},
   "source": [
    "Импортируем датасет MNIST."
   ]
  },
  {
   "cell_type": "code",
   "execution_count": 156,
   "metadata": {},
   "outputs": [],
   "source": [
    "from keras.datasets import mnist\n",
    "(X_train, y_train), (X_pred, y_pred) = mnist.load_data()"
   ]
  },
  {
   "cell_type": "markdown",
   "metadata": {},
   "source": [
    "Объем тренировочного набора данных:"
   ]
  },
  {
   "cell_type": "code",
   "execution_count": 157,
   "metadata": {},
   "outputs": [
    {
     "data": {
      "text/plain": "60000"
     },
     "execution_count": 157,
     "metadata": {},
     "output_type": "execute_result"
    }
   ],
   "source": [
    "len(X_train)"
   ]
  },
  {
   "cell_type": "markdown",
   "metadata": {},
   "source": [
    "Посмотрим, что из себя представляет, например, нулевой объект."
   ]
  },
  {
   "cell_type": "code",
   "execution_count": 158,
   "metadata": {},
   "outputs": [
    {
     "data": {
      "text/plain": "<matplotlib.image.AxesImage at 0x7f0007e3a470>"
     },
     "execution_count": 158,
     "metadata": {},
     "output_type": "execute_result"
    },
    {
     "data": {
      "text/plain": "<Figure size 432x288 with 1 Axes>",
      "image/png": "[encoded data removed]"
     },
     "metadata": {
      "needs_background": "light"
     },
     "output_type": "display_data"
    }
   ],
   "source": [
    "plt.title(\"Нулевой объект из тренировочного набора:\")\n",
    "plt.imshow(X_train[0], cmap=\"gray\")"
   ]
  },
  {
   "cell_type": "markdown",
   "metadata": {},
   "source": [
    "Отклик нулевого объекта из тренировочного набора:"
   ]
  },
  {
   "cell_type": "code",
   "execution_count": 159,
   "metadata": {},
   "outputs": [
    {
     "data": {
      "text/plain": "5"
     },
     "execution_count": 159,
     "metadata": {},
     "output_type": "execute_result"
    }
   ],
   "source": [
    "y_train[0]"
   ]
  },
  {
   "cell_type": "markdown",
   "metadata": {},
   "source": [
    "Для разделения данных рекомендуем использовать функцию train_test_split из библиотеки sklearn. Следующий код разделяет исходные данные в отношении 70/30."
   ]
  },
  {
   "cell_type": "markdown",
   "metadata": {},
   "source": [
    "Для начала преобразуем данные в привычный формат."
   ]
  },
  {
   "cell_type": "code",
   "execution_count": 160,
   "metadata": {},
   "outputs": [],
   "source": [
    "dim = 784 # 28*28 \n",
    "X_train = X_train.reshape(len(X_train), dim)\n",
    "# X_test = X_test.reshape(len(X_test), dim)"
   ]
  },
  {
   "cell_type": "markdown",
   "metadata": {},
   "source": [
    "Уменьшим размерность тестовых данных, выбрав 48 главных компонент"
   ]
  },
  {
   "cell_type": "code",
   "execution_count": 161,
   "metadata": {},
   "outputs": [
    {
     "name": "stdout",
     "output_type": "stream",
     "text": [
      "#1. var = 0.755498\n"
     ]
    }
   ],
   "source": [
    "from sklearn.decomposition import PCA\n",
    "\n",
    "pca = PCA(n_components=34, svd_solver='full')\n",
    "modelPCA = pca.fit(X_train)\n",
    "print(\"#1. var = %f\" % sum(pca.explained_variance_ratio_))\n",
    "\n",
    "X_train = modelPCA.transform(X_train)"
   ]
  },
  {
   "cell_type": "code",
   "execution_count": 162,
   "outputs": [],
   "source": [
    "from sklearn.model_selection import train_test_split\n",
    "X_train, X_test, y_train, y_test = train_test_split(X_train, y_train, test_size=0.3, random_state=30)"
   ],
   "metadata": {
    "collapsed": false,
    "pycharm": {
     "name": "#%%\n"
    }
   }
  },
  {
   "cell_type": "code",
   "execution_count": 163,
   "outputs": [
    {
     "name": "stdout",
     "output_type": "stream",
     "text": [
      "#2: 0.94\n"
     ]
    }
   ],
   "source": [
    "predictors0=tuple(e[0] for e in X_train)\n",
    "print(\"#2: %.2f\"%(sum(predictors0)/len(predictors0)))"
   ],
   "metadata": {
    "collapsed": false,
    "pycharm": {
     "name": "#%%\n"
    }
   }
  },
  {
   "cell_type": "code",
   "metadata": {
    "pycharm": {
     "name": "#%%\n"
    }
   },
   "source": [
    "from sklearn.multiclass import OneVsRestClassifier\n",
    "from sklearn.tree import DecisionTreeClassifier\n",
    "from sklearn.ensemble import RandomForestClassifier\n",
    "from sklearn.linear_model import LogisticRegression\n",
    "\n",
    "# tree = RandomForestClassifier(criterion='gini', min_samples_leaf=10, max_depth=20, n_estimators=10, random_state=30)\n",
    "# tree = LogisticRegression(random_state=30)\n",
    "tree = DecisionTreeClassifier(min_samples_leaf=10,max_depth=20,random_state=30)\n",
    "clf = OneVsRestClassifier(tree).fit(X_train, y_train)"
   ],
   "execution_count": 164,
   "outputs": []
  },
  {
   "cell_type": "code",
   "execution_count": 165,
   "outputs": [
    {
     "name": "stdout",
     "output_type": "stream",
     "text": [
      "1693\n"
     ]
    }
   ],
   "source": [
    "y_pred = clf.predict(X_test)\n",
    "from sklearn.metrics import confusion_matrix\n",
    "CM = confusion_matrix(y_test, y_pred)\n",
    "print(CM[7][7])"
   ],
   "metadata": {
    "collapsed": false,
    "pycharm": {
     "name": "#%%\n"
    }
   }
  },
  {
   "cell_type": "markdown",
   "metadata": {},
   "source": [
    "Примените полученное ранее преобразование метода главных компонент к тестовым данным"
   ]
  },
  {
   "cell_type": "code",
   "execution_count": 166,
   "metadata": {},
   "outputs": [
    {
     "name": "stdout",
     "output_type": "stream",
     "text": [
      "Label: 2\n"
     ]
    }
   ],
   "source": [
    "import csv\n",
    "with open('/home/kirill/Downloads/pred_for_task.csv') as csvfile:\n",
    "    spamreader = csv.reader(csvfile)\n",
    "    for row in spamreader:\n",
    "        if row[0] == \"file2\":\n",
    "            print(\"Label: %d\" % int(row[1]))\n",
    "            test = tuple(float(e) for e in row[2:])\n",
    "            assert len(test) == 784  # expect 784 predictors\n",
    "\n",
    "X_test = [test]\n",
    "X_test = modelPCA.transform(X_test)"
   ]
  },
  {
   "cell_type": "code",
   "execution_count": 167,
   "metadata": {
    "pycharm": {
     "name": "#%%\n"
    }
   },
   "outputs": [
    {
     "name": "stdout",
     "output_type": "stream",
     "text": [
      "Prediction: 8\n",
      "Probability: 0.500\n"
     ]
    }
   ],
   "source": [
    "y_pred = clf.predict(X_test)\n",
    "prediction = int(y_pred[0])\n",
    "print(\"Prediction: %d\" % prediction)\n",
    "print(\"Probability: %.3f\" % clf.predict_proba(X_test)[0][prediction])"
   ]
  }
 ],
 "metadata": {
  "kernelspec": {
   "name": "python3",
   "language": "python",
   "display_name": "Python 3"
  },
  "language_info": {
   "codemirror_mode": {
    "name": "ipython",
    "version": 3
   },
   "file_extension": ".py",
   "mimetype": "text/x-python",
   "name": "python",
   "nbconvert_exporter": "python",
   "pygments_lexer": "ipython3",
   "version": "3.6.6"
  }
 },
 "nbformat": 4,
 "nbformat_minor": 2
}