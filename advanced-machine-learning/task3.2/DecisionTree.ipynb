{
 "cells": [
  {
   "cell_type": "code",
   "execution_count": 1,
   "metadata": {
    "pycharm": {
     "is_executing": false
    }
   },
   "outputs": [],
   "source": [
    "import pandas as pd\n",
    "import matplotlib\n",
    "import numpy as np\n",
    "import matplotlib.pyplot as plt\n",
    "%matplotlib inline "
   ]
  },
  {
   "cell_type": "code",
   "execution_count": 2,
   "metadata": {
    "pycharm": {
     "is_executing": false
    }
   },
   "outputs": [],
   "source": [
    "df = pd.read_csv('diabetes.csv') "
   ]
  },
  {
   "cell_type": "code",
   "execution_count": 3,
   "metadata": {
    "pycharm": {
     "is_executing": false
    }
   },
   "outputs": [
    {
     "data": {
      "text/plain": "   Pregnancies  Glucose  BloodPressure  SkinThickness  Insulin  BMI   \\\n0            6      148             72             35        0  33.6   \n1            1       85             66             29        0  26.6   \n2            8      183             64              0        0  23.3   \n3            1       89             66             23       94  28.1   \n4            0      137             40             35      168  43.1   \n\n   DiabetesPedigreeFunction  Age  Outcome  \n0                     0.627   50        1  \n1                     0.351   31        0  \n2                     0.672   32        1  \n3                     0.167   21        0  \n4                     2.288   33        1  ",
      "text/html": "<div>\n<style scoped>\n    .dataframe tbody tr th:only-of-type {\n        vertical-align: middle;\n    }\n\n    .dataframe tbody tr th {\n        vertical-align: top;\n    }\n\n    .dataframe thead th {\n        text-align: right;\n    }\n</style>\n<table border=\"1\" class=\"dataframe\">\n  <thead>\n    <tr style=\"text-align: right;\">\n      <th></th>\n      <th>Pregnancies</th>\n      <th>Glucose</th>\n      <th>BloodPressure</th>\n      <th>SkinThickness</th>\n      <th>Insulin</th>\n      <th>BMI</th>\n      <th>DiabetesPedigreeFunction</th>\n      <th>Age</th>\n      <th>Outcome</th>\n    </tr>\n  </thead>\n  <tbody>\n    <tr>\n      <th>0</th>\n      <td>6</td>\n      <td>148</td>\n      <td>72</td>\n      <td>35</td>\n      <td>0</td>\n      <td>33.6</td>\n      <td>0.627</td>\n      <td>50</td>\n      <td>1</td>\n    </tr>\n    <tr>\n      <th>1</th>\n      <td>1</td>\n      <td>85</td>\n      <td>66</td>\n      <td>29</td>\n      <td>0</td>\n      <td>26.6</td>\n      <td>0.351</td>\n      <td>31</td>\n      <td>0</td>\n    </tr>\n    <tr>\n      <th>2</th>\n      <td>8</td>\n      <td>183</td>\n      <td>64</td>\n      <td>0</td>\n      <td>0</td>\n      <td>23.3</td>\n      <td>0.672</td>\n      <td>32</td>\n      <td>1</td>\n    </tr>\n    <tr>\n      <th>3</th>\n      <td>1</td>\n      <td>89</td>\n      <td>66</td>\n      <td>23</td>\n      <td>94</td>\n      <td>28.1</td>\n      <td>0.167</td>\n      <td>21</td>\n      <td>0</td>\n    </tr>\n    <tr>\n      <th>4</th>\n      <td>0</td>\n      <td>137</td>\n      <td>40</td>\n      <td>35</td>\n      <td>168</td>\n      <td>43.1</td>\n      <td>2.288</td>\n      <td>33</td>\n      <td>1</td>\n    </tr>\n  </tbody>\n</table>\n</div>"
     },
     "metadata": {},
     "output_type": "execute_result",
     "execution_count": 3
    }
   ],
   "source": [
    "df.head()"
   ]
  },
  {
   "cell_type": "markdown",
   "metadata": {},
   "source": [
    "Отбор первых 650 строк:"
   ]
  },
  {
   "cell_type": "code",
   "execution_count": 4,
   "metadata": {
    "pycharm": {
     "is_executing": false
    }
   },
   "outputs": [],
   "source": [
    "task_data = df.head(650)"
   ]
  },
  {
   "cell_type": "markdown",
   "metadata": {},
   "source": [
    "Вывод числа строк в получившейся выборке и относящихся к классу 0 (пациент не болен диабетом)"
   ]
  },
  {
   "cell_type": "code",
   "execution_count": 5,
   "metadata": {
    "pycharm": {
     "is_executing": false
    }
   },
   "outputs": [
    {
     "data": {
      "text/plain": "427"
     },
     "metadata": {},
     "output_type": "execute_result",
     "execution_count": 5
    }
   ],
   "source": [
    "len(task_data[task_data['Outcome'] == 0])"
   ]
  },
  {
   "cell_type": "markdown",
   "metadata": {},
   "source": [
    "Разделеные данных на тренировочные и тестовые. Первые 80% строк — тренировочные, остальные — тестовые."
   ]
  },
  {
   "cell_type": "code",
   "execution_count": 6,
   "metadata": {
    "pycharm": {
     "is_executing": false
    }
   },
   "outputs": [],
   "source": [
    "train = task_data.head(int(len(task_data)*0.8))\n",
    "test = task_data.tail(int(len(task_data)*0.2))"
   ]
  },
  {
   "cell_type": "markdown",
   "metadata": {},
   "source": [
    "Выделяем предикторы (8 первых столбцов) и отклик (Outcome):"
   ]
  },
  {
   "cell_type": "code",
   "execution_count": 7,
   "metadata": {
    "pycharm": {
     "is_executing": false
    }
   },
   "outputs": [],
   "source": [
    "features = list(train.columns[:8])\n",
    "x = train[features]\n",
    "y = train['Outcome']"
   ]
  },
  {
   "cell_type": "markdown",
   "metadata": {},
   "source": [
    "Подключем классификатор DecisionTreeClassifier:"
   ]
  },
  {
   "cell_type": "code",
   "execution_count": 8,
   "metadata": {
    "pycharm": {
     "is_executing": false
    }
   },
   "outputs": [],
   "source": [
    "from sklearn.tree import DecisionTreeClassifier"
   ]
  },
  {
   "cell_type": "markdown",
   "metadata": {},
   "source": [
    "Задаем параметры дерева принятия решений и обучаем модель:"
   ]
  },
  {
   "cell_type": "code",
   "execution_count": 9,
   "metadata": {
    "pycharm": {
     "is_executing": false
    }
   },
   "outputs": [],
   "source": [
    "tree = DecisionTreeClassifier(criterion='entropy', #критерий разделения\n",
    "                              min_samples_leaf=20, #минимальное число объектов в листе\n",
    "                              max_leaf_nodes=30, #максимальное число листьев\n",
    "                              random_state=2020)\n",
    "clf=tree.fit(x, y)"
   ]
  },
  {
   "cell_type": "markdown",
   "metadata": {},
   "source": [
    "Подключаем библиотеку для визуализации дерева. Сохраняем в файл и выводим на экран."
   ]
  },
  {
   "cell_type": "code",
   "execution_count": 10,
   "metadata": {
    "pycharm": {
     "is_executing": false
    }
   },
   "outputs": [
    {
     "data": {
      "text/plain": "<graphviz.files.Source at 0x7f69a45f47b8>",
      "image/svg+xml": "<?xml version=\"1.0\" encoding=\"UTF-8\" standalone=\"no\"?>\n<!DOCTYPE svg PUBLIC \"-//W3C//DTD SVG 1.1//EN\"\n \"http://www.w3.org/Graphics/SVG/1.1/DTD/svg11.dtd\">\n<!-- Generated by graphviz version 2.40.1 (20161225.0304)\n -->\n<!-- Title: Tree Pages: 1 -->\n<svg width=\"1291pt\" height=\"909pt\"\n viewBox=\"0.00 0.00 1291.00 909.00\" xmlns=\"http://www.w3.org/2000/svg\" xmlns:xlink=\"http://www.w3.org/1999/xlink\">\n<g id=\"graph0\" class=\"graph\" transform=\"scale(1 1) rotate(0) translate(4 905)\">\n<title>Tree</title>\n<polygon fill=\"#ffffff\" stroke=\"transparent\" points=\"-4,4 -4,-905 1287,-905 1287,4 -4,4\"/>\n<!-- 0 -->\n<g id=\"node1\" class=\"node\">\n<title>0</title>\n<path fill=\"#f4c8a8\" stroke=\"#000000\" d=\"M617.5,-901C617.5,-901 516.5,-901 516.5,-901 510.5,-901 504.5,-895 504.5,-889 504.5,-889 504.5,-830 504.5,-830 504.5,-824 510.5,-818 516.5,-818 516.5,-818 617.5,-818 617.5,-818 623.5,-818 629.5,-824 629.5,-830 629.5,-830 629.5,-889 629.5,-889 629.5,-895 623.5,-901 617.5,-901\"/>\n<text text-anchor=\"middle\" x=\"567\" y=\"-885.8\" font-family=\"Helvetica,sans-Serif\" font-size=\"14.00\" fill=\"#000000\">Glucose &lt;= 154.5</text>\n<text text-anchor=\"middle\" x=\"567\" y=\"-870.8\" font-family=\"Helvetica,sans-Serif\" font-size=\"14.00\" fill=\"#000000\">entropy = 0.94</text>\n<text text-anchor=\"middle\" x=\"567\" y=\"-855.8\" font-family=\"Helvetica,sans-Serif\" font-size=\"14.00\" fill=\"#000000\">samples = 520</text>\n<text text-anchor=\"middle\" x=\"567\" y=\"-840.8\" font-family=\"Helvetica,sans-Serif\" font-size=\"14.00\" fill=\"#000000\">value = [333, 187]</text>\n<text text-anchor=\"middle\" x=\"567\" y=\"-825.8\" font-family=\"Helvetica,sans-Serif\" font-size=\"14.00\" fill=\"#000000\">class = 0</text>\n</g>\n<!-- 1 -->\n<g id=\"node2\" class=\"node\">\n<title>1</title>\n<path fill=\"#efb184\" stroke=\"#000000\" d=\"M520.5,-782C520.5,-782 419.5,-782 419.5,-782 413.5,-782 407.5,-776 407.5,-770 407.5,-770 407.5,-711 407.5,-711 407.5,-705 413.5,-699 419.5,-699 419.5,-699 520.5,-699 520.5,-699 526.5,-699 532.5,-705 532.5,-711 532.5,-711 532.5,-770 532.5,-770 532.5,-776 526.5,-782 520.5,-782\"/>\n<text text-anchor=\"middle\" x=\"470\" y=\"-766.8\" font-family=\"Helvetica,sans-Serif\" font-size=\"14.00\" fill=\"#000000\">BMI &#160;&lt;= 26.3</text>\n<text text-anchor=\"middle\" x=\"470\" y=\"-751.8\" font-family=\"Helvetica,sans-Serif\" font-size=\"14.00\" fill=\"#000000\">entropy = 0.85</text>\n<text text-anchor=\"middle\" x=\"470\" y=\"-736.8\" font-family=\"Helvetica,sans-Serif\" font-size=\"14.00\" fill=\"#000000\">samples = 437</text>\n<text text-anchor=\"middle\" x=\"470\" y=\"-721.8\" font-family=\"Helvetica,sans-Serif\" font-size=\"14.00\" fill=\"#000000\">value = [317, 120]</text>\n<text text-anchor=\"middle\" x=\"470\" y=\"-706.8\" font-family=\"Helvetica,sans-Serif\" font-size=\"14.00\" fill=\"#000000\">class = 0</text>\n</g>\n<!-- 0&#45;&gt;1 -->\n<g id=\"edge1\" class=\"edge\">\n<title>0&#45;&gt;1</title>\n<path fill=\"none\" stroke=\"#000000\" d=\"M533.0741,-817.8796C525.8062,-808.9633 518.057,-799.4565 510.5672,-790.268\"/>\n<polygon fill=\"#000000\" stroke=\"#000000\" points=\"513.1018,-787.8379 504.0707,-782.2981 507.676,-792.2606 513.1018,-787.8379\"/>\n<text text-anchor=\"middle\" x=\"501.5375\" y=\"-803.4694\" font-family=\"Helvetica,sans-Serif\" font-size=\"14.00\" fill=\"#000000\">True</text>\n</g>\n<!-- 2 -->\n<g id=\"node33\" class=\"node\">\n<title>2</title>\n<path fill=\"#68b4eb\" stroke=\"#000000\" d=\"M778,-782C778,-782 576,-782 576,-782 570,-782 564,-776 564,-770 564,-770 564,-711 564,-711 564,-705 570,-699 576,-699 576,-699 778,-699 778,-699 784,-699 790,-705 790,-711 790,-711 790,-770 790,-770 790,-776 784,-782 778,-782\"/>\n<text text-anchor=\"middle\" x=\"677\" y=\"-766.8\" font-family=\"Helvetica,sans-Serif\" font-size=\"14.00\" fill=\"#000000\">DiabetesPedigreeFunction &lt;= 0.31</text>\n<text text-anchor=\"middle\" x=\"677\" y=\"-751.8\" font-family=\"Helvetica,sans-Serif\" font-size=\"14.00\" fill=\"#000000\">entropy = 0.71</text>\n<text text-anchor=\"middle\" x=\"677\" y=\"-736.8\" font-family=\"Helvetica,sans-Serif\" font-size=\"14.00\" fill=\"#000000\">samples = 83</text>\n<text text-anchor=\"middle\" x=\"677\" y=\"-721.8\" font-family=\"Helvetica,sans-Serif\" font-size=\"14.00\" fill=\"#000000\">value = [16, 67]</text>\n<text text-anchor=\"middle\" x=\"677\" y=\"-706.8\" font-family=\"Helvetica,sans-Serif\" font-size=\"14.00\" fill=\"#000000\">class = 1</text>\n</g>\n<!-- 0&#45;&gt;2 -->\n<g id=\"edge32\" class=\"edge\">\n<title>0&#45;&gt;2</title>\n<path fill=\"none\" stroke=\"#000000\" d=\"M605.4727,-817.8796C613.8811,-808.7832 622.8576,-799.0722 631.5103,-789.7116\"/>\n<polygon fill=\"#000000\" stroke=\"#000000\" points=\"634.1453,-792.0172 638.3631,-782.2981 629.005,-787.2656 634.1453,-792.0172\"/>\n<text text-anchor=\"middle\" x=\"639.3449\" y=\"-803.5788\" font-family=\"Helvetica,sans-Serif\" font-size=\"14.00\" fill=\"#000000\">False</text>\n</g>\n<!-- 3 -->\n<g id=\"node3\" class=\"node\">\n<title>3</title>\n<path fill=\"#e68641\" stroke=\"#000000\" d=\"M223.5,-663C223.5,-663 122.5,-663 122.5,-663 116.5,-663 110.5,-657 110.5,-651 110.5,-651 110.5,-592 110.5,-592 110.5,-586 116.5,-580 122.5,-580 122.5,-580 223.5,-580 223.5,-580 229.5,-580 235.5,-586 235.5,-592 235.5,-592 235.5,-651 235.5,-651 235.5,-657 229.5,-663 223.5,-663\"/>\n<text text-anchor=\"middle\" x=\"173\" y=\"-647.8\" font-family=\"Helvetica,sans-Serif\" font-size=\"14.00\" fill=\"#000000\">Glucose &lt;= 106.5</text>\n<text text-anchor=\"middle\" x=\"173\" y=\"-632.8\" font-family=\"Helvetica,sans-Serif\" font-size=\"14.00\" fill=\"#000000\">entropy = 0.23</text>\n<text text-anchor=\"middle\" x=\"173\" y=\"-617.8\" font-family=\"Helvetica,sans-Serif\" font-size=\"14.00\" fill=\"#000000\">samples = 109</text>\n<text text-anchor=\"middle\" x=\"173\" y=\"-602.8\" font-family=\"Helvetica,sans-Serif\" font-size=\"14.00\" fill=\"#000000\">value = [105, 4]</text>\n<text text-anchor=\"middle\" x=\"173\" y=\"-587.8\" font-family=\"Helvetica,sans-Serif\" font-size=\"14.00\" fill=\"#000000\">class = 0</text>\n</g>\n<!-- 1&#45;&gt;3 -->\n<g id=\"edge2\" class=\"edge\">\n<title>1&#45;&gt;3</title>\n<path fill=\"none\" stroke=\"#000000\" d=\"M407.3769,-715.4086C359.8913,-696.3824 294.5563,-670.2044 244.9282,-650.3197\"/>\n<polygon fill=\"#000000\" stroke=\"#000000\" points=\"246.1219,-647.0275 235.5375,-646.5571 243.5183,-653.5254 246.1219,-647.0275\"/>\n</g>\n<!-- 4 -->\n<g id=\"node8\" class=\"node\">\n<title>4</title>\n<path fill=\"#f3c6a5\" stroke=\"#000000\" d=\"M520.5,-663C520.5,-663 419.5,-663 419.5,-663 413.5,-663 407.5,-657 407.5,-651 407.5,-651 407.5,-592 407.5,-592 407.5,-586 413.5,-580 419.5,-580 419.5,-580 520.5,-580 520.5,-580 526.5,-580 532.5,-586 532.5,-592 532.5,-592 532.5,-651 532.5,-651 532.5,-657 526.5,-663 520.5,-663\"/>\n<text text-anchor=\"middle\" x=\"470\" y=\"-647.8\" font-family=\"Helvetica,sans-Serif\" font-size=\"14.00\" fill=\"#000000\">Glucose &lt;= 99.5</text>\n<text text-anchor=\"middle\" x=\"470\" y=\"-632.8\" font-family=\"Helvetica,sans-Serif\" font-size=\"14.00\" fill=\"#000000\">entropy = 0.94</text>\n<text text-anchor=\"middle\" x=\"470\" y=\"-617.8\" font-family=\"Helvetica,sans-Serif\" font-size=\"14.00\" fill=\"#000000\">samples = 328</text>\n<text text-anchor=\"middle\" x=\"470\" y=\"-602.8\" font-family=\"Helvetica,sans-Serif\" font-size=\"14.00\" fill=\"#000000\">value = [212, 116]</text>\n<text text-anchor=\"middle\" x=\"470\" y=\"-587.8\" font-family=\"Helvetica,sans-Serif\" font-size=\"14.00\" fill=\"#000000\">class = 0</text>\n</g>\n<!-- 1&#45;&gt;4 -->\n<g id=\"edge7\" class=\"edge\">\n<title>1&#45;&gt;4</title>\n<path fill=\"none\" stroke=\"#000000\" d=\"M470,-698.8796C470,-690.6838 470,-681.9891 470,-673.5013\"/>\n<polygon fill=\"#000000\" stroke=\"#000000\" points=\"473.5001,-673.298 470,-663.2981 466.5001,-673.2981 473.5001,-673.298\"/>\n</g>\n<!-- 21 -->\n<g id=\"node4\" class=\"node\">\n<title>21</title>\n<path fill=\"#e58139\" stroke=\"#000000\" d=\"M90,-536.5C90,-536.5 12,-536.5 12,-536.5 6,-536.5 0,-530.5 0,-524.5 0,-524.5 0,-480.5 0,-480.5 0,-474.5 6,-468.5 12,-468.5 12,-468.5 90,-468.5 90,-468.5 96,-468.5 102,-474.5 102,-480.5 102,-480.5 102,-524.5 102,-524.5 102,-530.5 96,-536.5 90,-536.5\"/>\n<text text-anchor=\"middle\" x=\"51\" y=\"-521.3\" font-family=\"Helvetica,sans-Serif\" font-size=\"14.00\" fill=\"#000000\">entropy = 0.0</text>\n<text text-anchor=\"middle\" x=\"51\" y=\"-506.3\" font-family=\"Helvetica,sans-Serif\" font-size=\"14.00\" fill=\"#000000\">samples = 59</text>\n<text text-anchor=\"middle\" x=\"51\" y=\"-491.3\" font-family=\"Helvetica,sans-Serif\" font-size=\"14.00\" fill=\"#000000\">value = [59, 0]</text>\n<text text-anchor=\"middle\" x=\"51\" y=\"-476.3\" font-family=\"Helvetica,sans-Serif\" font-size=\"14.00\" fill=\"#000000\">class = 0</text>\n</g>\n<!-- 3&#45;&gt;21 -->\n<g id=\"edge3\" class=\"edge\">\n<title>3&#45;&gt;21</title>\n<path fill=\"none\" stroke=\"#000000\" d=\"M130.3303,-579.8796C118.3806,-568.2237 105.3963,-555.5587 93.4589,-543.9148\"/>\n<polygon fill=\"#000000\" stroke=\"#000000\" points=\"95.7825,-541.292 86.18,-536.8149 90.8947,-546.303 95.7825,-541.292\"/>\n</g>\n<!-- 22 -->\n<g id=\"node5\" class=\"node\">\n<title>22</title>\n<path fill=\"#e78c4a\" stroke=\"#000000\" d=\"M214,-544C214,-544 132,-544 132,-544 126,-544 120,-538 120,-532 120,-532 120,-473 120,-473 120,-467 126,-461 132,-461 132,-461 214,-461 214,-461 220,-461 226,-467 226,-473 226,-473 226,-532 226,-532 226,-538 220,-544 214,-544\"/>\n<text text-anchor=\"middle\" x=\"173\" y=\"-528.8\" font-family=\"Helvetica,sans-Serif\" font-size=\"14.00\" fill=\"#000000\">Insulin &lt;= 49.0</text>\n<text text-anchor=\"middle\" x=\"173\" y=\"-513.8\" font-family=\"Helvetica,sans-Serif\" font-size=\"14.00\" fill=\"#000000\">entropy = 0.4</text>\n<text text-anchor=\"middle\" x=\"173\" y=\"-498.8\" font-family=\"Helvetica,sans-Serif\" font-size=\"14.00\" fill=\"#000000\">samples = 50</text>\n<text text-anchor=\"middle\" x=\"173\" y=\"-483.8\" font-family=\"Helvetica,sans-Serif\" font-size=\"14.00\" fill=\"#000000\">value = [46, 4]</text>\n<text text-anchor=\"middle\" x=\"173\" y=\"-468.8\" font-family=\"Helvetica,sans-Serif\" font-size=\"14.00\" fill=\"#000000\">class = 0</text>\n</g>\n<!-- 3&#45;&gt;22 -->\n<g id=\"edge4\" class=\"edge\">\n<title>3&#45;&gt;22</title>\n<path fill=\"none\" stroke=\"#000000\" d=\"M173,-579.8796C173,-571.6838 173,-562.9891 173,-554.5013\"/>\n<polygon fill=\"#000000\" stroke=\"#000000\" points=\"176.5001,-554.298 173,-544.2981 169.5001,-554.2981 176.5001,-554.298\"/>\n</g>\n<!-- 23 -->\n<g id=\"node6\" class=\"node\">\n<title>23</title>\n<path fill=\"#ea985d\" stroke=\"#000000\" d=\"M92,-417.5C92,-417.5 12,-417.5 12,-417.5 6,-417.5 0,-411.5 0,-405.5 0,-405.5 0,-361.5 0,-361.5 0,-355.5 6,-349.5 12,-349.5 12,-349.5 92,-349.5 92,-349.5 98,-349.5 104,-355.5 104,-361.5 104,-361.5 104,-405.5 104,-405.5 104,-411.5 98,-417.5 92,-417.5\"/>\n<text text-anchor=\"middle\" x=\"52\" y=\"-402.3\" font-family=\"Helvetica,sans-Serif\" font-size=\"14.00\" fill=\"#000000\">entropy = 0.62</text>\n<text text-anchor=\"middle\" x=\"52\" y=\"-387.3\" font-family=\"Helvetica,sans-Serif\" font-size=\"14.00\" fill=\"#000000\">samples = 26</text>\n<text text-anchor=\"middle\" x=\"52\" y=\"-372.3\" font-family=\"Helvetica,sans-Serif\" font-size=\"14.00\" fill=\"#000000\">value = [22, 4]</text>\n<text text-anchor=\"middle\" x=\"52\" y=\"-357.3\" font-family=\"Helvetica,sans-Serif\" font-size=\"14.00\" fill=\"#000000\">class = 0</text>\n</g>\n<!-- 22&#45;&gt;23 -->\n<g id=\"edge5\" class=\"edge\">\n<title>22&#45;&gt;23</title>\n<path fill=\"none\" stroke=\"#000000\" d=\"M130.6801,-460.8796C118.8283,-449.2237 105.9505,-436.5587 94.1109,-424.9148\"/>\n<polygon fill=\"#000000\" stroke=\"#000000\" points=\"96.4756,-422.3314 86.8917,-417.8149 91.5673,-427.3223 96.4756,-422.3314\"/>\n</g>\n<!-- 24 -->\n<g id=\"node7\" class=\"node\">\n<title>24</title>\n<path fill=\"#e58139\" stroke=\"#000000\" d=\"M212,-417.5C212,-417.5 134,-417.5 134,-417.5 128,-417.5 122,-411.5 122,-405.5 122,-405.5 122,-361.5 122,-361.5 122,-355.5 128,-349.5 134,-349.5 134,-349.5 212,-349.5 212,-349.5 218,-349.5 224,-355.5 224,-361.5 224,-361.5 224,-405.5 224,-405.5 224,-411.5 218,-417.5 212,-417.5\"/>\n<text text-anchor=\"middle\" x=\"173\" y=\"-402.3\" font-family=\"Helvetica,sans-Serif\" font-size=\"14.00\" fill=\"#000000\">entropy = 0.0</text>\n<text text-anchor=\"middle\" x=\"173\" y=\"-387.3\" font-family=\"Helvetica,sans-Serif\" font-size=\"14.00\" fill=\"#000000\">samples = 24</text>\n<text text-anchor=\"middle\" x=\"173\" y=\"-372.3\" font-family=\"Helvetica,sans-Serif\" font-size=\"14.00\" fill=\"#000000\">value = [24, 0]</text>\n<text text-anchor=\"middle\" x=\"173\" y=\"-357.3\" font-family=\"Helvetica,sans-Serif\" font-size=\"14.00\" fill=\"#000000\">class = 0</text>\n</g>\n<!-- 22&#45;&gt;24 -->\n<g id=\"edge6\" class=\"edge\">\n<title>22&#45;&gt;24</title>\n<path fill=\"none\" stroke=\"#000000\" d=\"M173,-460.8796C173,-450.2134 173,-438.7021 173,-427.9015\"/>\n<polygon fill=\"#000000\" stroke=\"#000000\" points=\"176.5001,-427.8149 173,-417.8149 169.5001,-427.815 176.5001,-427.8149\"/>\n</g>\n<!-- 5 -->\n<g id=\"node9\" class=\"node\">\n<title>5</title>\n<path fill=\"#e99254\" stroke=\"#000000\" d=\"M511,-544C511,-544 425,-544 425,-544 419,-544 413,-538 413,-532 413,-532 413,-473 413,-473 413,-467 419,-461 425,-461 425,-461 511,-461 511,-461 517,-461 523,-467 523,-473 523,-473 523,-532 523,-532 523,-538 517,-544 511,-544\"/>\n<text text-anchor=\"middle\" x=\"468\" y=\"-528.8\" font-family=\"Helvetica,sans-Serif\" font-size=\"14.00\" fill=\"#000000\">Age &lt;= 25.5</text>\n<text text-anchor=\"middle\" x=\"468\" y=\"-513.8\" font-family=\"Helvetica,sans-Serif\" font-size=\"14.00\" fill=\"#000000\">entropy = 0.53</text>\n<text text-anchor=\"middle\" x=\"468\" y=\"-498.8\" font-family=\"Helvetica,sans-Serif\" font-size=\"14.00\" fill=\"#000000\">samples = 91</text>\n<text text-anchor=\"middle\" x=\"468\" y=\"-483.8\" font-family=\"Helvetica,sans-Serif\" font-size=\"14.00\" fill=\"#000000\">value = [80, 11]</text>\n<text text-anchor=\"middle\" x=\"468\" y=\"-468.8\" font-family=\"Helvetica,sans-Serif\" font-size=\"14.00\" fill=\"#000000\">class = 0</text>\n</g>\n<!-- 4&#45;&gt;5 -->\n<g id=\"edge8\" class=\"edge\">\n<title>4&#45;&gt;5</title>\n<path fill=\"none\" stroke=\"#000000\" d=\"M469.3005,-579.8796C469.1628,-571.6838 469.0166,-562.9891 468.874,-554.5013\"/>\n<polygon fill=\"#000000\" stroke=\"#000000\" points=\"472.3701,-554.2378 468.7025,-544.2981 465.3711,-554.3555 472.3701,-554.2378\"/>\n</g>\n<!-- 6 -->\n<g id=\"node16\" class=\"node\">\n<title>6</title>\n<path fill=\"#fae5d7\" stroke=\"#000000\" d=\"M727.5,-544C727.5,-544 626.5,-544 626.5,-544 620.5,-544 614.5,-538 614.5,-532 614.5,-532 614.5,-473 614.5,-473 614.5,-467 620.5,-461 626.5,-461 626.5,-461 727.5,-461 727.5,-461 733.5,-461 739.5,-467 739.5,-473 739.5,-473 739.5,-532 739.5,-532 739.5,-538 733.5,-544 727.5,-544\"/>\n<text text-anchor=\"middle\" x=\"677\" y=\"-528.8\" font-family=\"Helvetica,sans-Serif\" font-size=\"14.00\" fill=\"#000000\">Age &lt;= 28.5</text>\n<text text-anchor=\"middle\" x=\"677\" y=\"-513.8\" font-family=\"Helvetica,sans-Serif\" font-size=\"14.00\" fill=\"#000000\">entropy = 0.99</text>\n<text text-anchor=\"middle\" x=\"677\" y=\"-498.8\" font-family=\"Helvetica,sans-Serif\" font-size=\"14.00\" fill=\"#000000\">samples = 237</text>\n<text text-anchor=\"middle\" x=\"677\" y=\"-483.8\" font-family=\"Helvetica,sans-Serif\" font-size=\"14.00\" fill=\"#000000\">value = [132, 105]</text>\n<text text-anchor=\"middle\" x=\"677\" y=\"-468.8\" font-family=\"Helvetica,sans-Serif\" font-size=\"14.00\" fill=\"#000000\">class = 0</text>\n</g>\n<!-- 4&#45;&gt;6 -->\n<g id=\"edge15\" class=\"edge\">\n<title>4&#45;&gt;6</title>\n<path fill=\"none\" stroke=\"#000000\" d=\"M532.6686,-585.4731C555.5654,-572.3103 581.6372,-557.3221 605.2638,-543.7396\"/>\n<polygon fill=\"#000000\" stroke=\"#000000\" points=\"607.2624,-546.6279 614.1875,-538.6096 603.7736,-540.5592 607.2624,-546.6279\"/>\n</g>\n<!-- 9 -->\n<g id=\"node10\" class=\"node\">\n<title>9</title>\n<path fill=\"#e6843d\" stroke=\"#000000\" d=\"M334,-425C334,-425 254,-425 254,-425 248,-425 242,-419 242,-413 242,-413 242,-354 242,-354 242,-348 248,-342 254,-342 254,-342 334,-342 334,-342 340,-342 346,-348 346,-354 346,-354 346,-413 346,-413 346,-419 340,-425 334,-425\"/>\n<text text-anchor=\"middle\" x=\"294\" y=\"-409.8\" font-family=\"Helvetica,sans-Serif\" font-size=\"14.00\" fill=\"#000000\">BMI &#160;&lt;= 32.15</text>\n<text text-anchor=\"middle\" x=\"294\" y=\"-394.8\" font-family=\"Helvetica,sans-Serif\" font-size=\"14.00\" fill=\"#000000\">entropy = 0.15</text>\n<text text-anchor=\"middle\" x=\"294\" y=\"-379.8\" font-family=\"Helvetica,sans-Serif\" font-size=\"14.00\" fill=\"#000000\">samples = 47</text>\n<text text-anchor=\"middle\" x=\"294\" y=\"-364.8\" font-family=\"Helvetica,sans-Serif\" font-size=\"14.00\" fill=\"#000000\">value = [46, 1]</text>\n<text text-anchor=\"middle\" x=\"294\" y=\"-349.8\" font-family=\"Helvetica,sans-Serif\" font-size=\"14.00\" fill=\"#000000\">class = 0</text>\n</g>\n<!-- 5&#45;&gt;9 -->\n<g id=\"edge9\" class=\"edge\">\n<title>5&#45;&gt;9</title>\n<path fill=\"none\" stroke=\"#000000\" d=\"M412.9453,-464.8477C394.2985,-452.095 373.3781,-437.7873 354.3425,-424.7687\"/>\n<polygon fill=\"#000000\" stroke=\"#000000\" points=\"356.259,-421.8392 346.0289,-419.083 352.3074,-427.6172 356.259,-421.8392\"/>\n</g>\n<!-- 10 -->\n<g id=\"node13\" class=\"node\">\n<title>10</title>\n<path fill=\"#eda673\" stroke=\"#000000\" d=\"M533.5,-425C533.5,-425 402.5,-425 402.5,-425 396.5,-425 390.5,-419 390.5,-413 390.5,-413 390.5,-354 390.5,-354 390.5,-348 396.5,-342 402.5,-342 402.5,-342 533.5,-342 533.5,-342 539.5,-342 545.5,-348 545.5,-354 545.5,-354 545.5,-413 545.5,-413 545.5,-419 539.5,-425 533.5,-425\"/>\n<text text-anchor=\"middle\" x=\"468\" y=\"-409.8\" font-family=\"Helvetica,sans-Serif\" font-size=\"14.00\" fill=\"#000000\">BloodPressure &lt;= 73.0</text>\n<text text-anchor=\"middle\" x=\"468\" y=\"-394.8\" font-family=\"Helvetica,sans-Serif\" font-size=\"14.00\" fill=\"#000000\">entropy = 0.77</text>\n<text text-anchor=\"middle\" x=\"468\" y=\"-379.8\" font-family=\"Helvetica,sans-Serif\" font-size=\"14.00\" fill=\"#000000\">samples = 44</text>\n<text text-anchor=\"middle\" x=\"468\" y=\"-364.8\" font-family=\"Helvetica,sans-Serif\" font-size=\"14.00\" fill=\"#000000\">value = [34, 10]</text>\n<text text-anchor=\"middle\" x=\"468\" y=\"-349.8\" font-family=\"Helvetica,sans-Serif\" font-size=\"14.00\" fill=\"#000000\">class = 0</text>\n</g>\n<!-- 5&#45;&gt;10 -->\n<g id=\"edge12\" class=\"edge\">\n<title>5&#45;&gt;10</title>\n<path fill=\"none\" stroke=\"#000000\" d=\"M468,-460.8796C468,-452.6838 468,-443.9891 468,-435.5013\"/>\n<polygon fill=\"#000000\" stroke=\"#000000\" points=\"471.5001,-435.298 468,-425.2981 464.5001,-435.2981 471.5001,-435.298\"/>\n</g>\n<!-- 33 -->\n<g id=\"node11\" class=\"node\">\n<title>33</title>\n<path fill=\"#e58139\" stroke=\"#000000\" d=\"M210,-298.5C210,-298.5 132,-298.5 132,-298.5 126,-298.5 120,-292.5 120,-286.5 120,-286.5 120,-242.5 120,-242.5 120,-236.5 126,-230.5 132,-230.5 132,-230.5 210,-230.5 210,-230.5 216,-230.5 222,-236.5 222,-242.5 222,-242.5 222,-286.5 222,-286.5 222,-292.5 216,-298.5 210,-298.5\"/>\n<text text-anchor=\"middle\" x=\"171\" y=\"-283.3\" font-family=\"Helvetica,sans-Serif\" font-size=\"14.00\" fill=\"#000000\">entropy = 0.0</text>\n<text text-anchor=\"middle\" x=\"171\" y=\"-268.3\" font-family=\"Helvetica,sans-Serif\" font-size=\"14.00\" fill=\"#000000\">samples = 27</text>\n<text text-anchor=\"middle\" x=\"171\" y=\"-253.3\" font-family=\"Helvetica,sans-Serif\" font-size=\"14.00\" fill=\"#000000\">value = [27, 0]</text>\n<text text-anchor=\"middle\" x=\"171\" y=\"-238.3\" font-family=\"Helvetica,sans-Serif\" font-size=\"14.00\" fill=\"#000000\">class = 0</text>\n</g>\n<!-- 9&#45;&gt;33 -->\n<g id=\"edge10\" class=\"edge\">\n<title>9&#45;&gt;33</title>\n<path fill=\"none\" stroke=\"#000000\" d=\"M250.9806,-341.8796C238.9329,-330.2237 225.8422,-317.5587 213.8069,-305.9148\"/>\n<polygon fill=\"#000000\" stroke=\"#000000\" points=\"216.089,-303.2528 206.4684,-298.8149 211.2217,-308.2837 216.089,-303.2528\"/>\n</g>\n<!-- 34 -->\n<g id=\"node12\" class=\"node\">\n<title>34</title>\n<path fill=\"#e68843\" stroke=\"#000000\" d=\"M332,-298.5C332,-298.5 252,-298.5 252,-298.5 246,-298.5 240,-292.5 240,-286.5 240,-286.5 240,-242.5 240,-242.5 240,-236.5 246,-230.5 252,-230.5 252,-230.5 332,-230.5 332,-230.5 338,-230.5 344,-236.5 344,-242.5 344,-242.5 344,-286.5 344,-286.5 344,-292.5 338,-298.5 332,-298.5\"/>\n<text text-anchor=\"middle\" x=\"292\" y=\"-283.3\" font-family=\"Helvetica,sans-Serif\" font-size=\"14.00\" fill=\"#000000\">entropy = 0.29</text>\n<text text-anchor=\"middle\" x=\"292\" y=\"-268.3\" font-family=\"Helvetica,sans-Serif\" font-size=\"14.00\" fill=\"#000000\">samples = 20</text>\n<text text-anchor=\"middle\" x=\"292\" y=\"-253.3\" font-family=\"Helvetica,sans-Serif\" font-size=\"14.00\" fill=\"#000000\">value = [19, 1]</text>\n<text text-anchor=\"middle\" x=\"292\" y=\"-238.3\" font-family=\"Helvetica,sans-Serif\" font-size=\"14.00\" fill=\"#000000\">class = 0</text>\n</g>\n<!-- 9&#45;&gt;34 -->\n<g id=\"edge11\" class=\"edge\">\n<title>9&#45;&gt;34</title>\n<path fill=\"none\" stroke=\"#000000\" d=\"M293.3005,-341.8796C293.1212,-331.2134 292.9278,-319.7021 292.7462,-308.9015\"/>\n<polygon fill=\"#000000\" stroke=\"#000000\" points=\"296.2444,-308.7547 292.5767,-298.8149 289.2454,-308.8724 296.2444,-308.7547\"/>\n</g>\n<!-- 25 -->\n<g id=\"node14\" class=\"node\">\n<title>25</title>\n<path fill=\"#f3c5a4\" stroke=\"#000000\" d=\"M454,-298.5C454,-298.5 374,-298.5 374,-298.5 368,-298.5 362,-292.5 362,-286.5 362,-286.5 362,-242.5 362,-242.5 362,-236.5 368,-230.5 374,-230.5 374,-230.5 454,-230.5 454,-230.5 460,-230.5 466,-236.5 466,-242.5 466,-242.5 466,-286.5 466,-286.5 466,-292.5 460,-298.5 454,-298.5\"/>\n<text text-anchor=\"middle\" x=\"414\" y=\"-283.3\" font-family=\"Helvetica,sans-Serif\" font-size=\"14.00\" fill=\"#000000\">entropy = 0.93</text>\n<text text-anchor=\"middle\" x=\"414\" y=\"-268.3\" font-family=\"Helvetica,sans-Serif\" font-size=\"14.00\" fill=\"#000000\">samples = 20</text>\n<text text-anchor=\"middle\" x=\"414\" y=\"-253.3\" font-family=\"Helvetica,sans-Serif\" font-size=\"14.00\" fill=\"#000000\">value = [13, 7]</text>\n<text text-anchor=\"middle\" x=\"414\" y=\"-238.3\" font-family=\"Helvetica,sans-Serif\" font-size=\"14.00\" fill=\"#000000\">class = 0</text>\n</g>\n<!-- 10&#45;&gt;25 -->\n<g id=\"edge13\" class=\"edge\">\n<title>10&#45;&gt;25</title>\n<path fill=\"none\" stroke=\"#000000\" d=\"M449.1134,-341.8796C444.1735,-330.9935 438.8341,-319.227 433.8459,-308.2344\"/>\n<polygon fill=\"#000000\" stroke=\"#000000\" points=\"436.891,-306.4749 429.5715,-298.8149 430.5166,-309.3675 436.891,-306.4749\"/>\n</g>\n<!-- 26 -->\n<g id=\"node15\" class=\"node\">\n<title>26</title>\n<path fill=\"#e99355\" stroke=\"#000000\" d=\"M576,-298.5C576,-298.5 496,-298.5 496,-298.5 490,-298.5 484,-292.5 484,-286.5 484,-286.5 484,-242.5 484,-242.5 484,-236.5 490,-230.5 496,-230.5 496,-230.5 576,-230.5 576,-230.5 582,-230.5 588,-236.5 588,-242.5 588,-242.5 588,-286.5 588,-286.5 588,-292.5 582,-298.5 576,-298.5\"/>\n<text text-anchor=\"middle\" x=\"536\" y=\"-283.3\" font-family=\"Helvetica,sans-Serif\" font-size=\"14.00\" fill=\"#000000\">entropy = 0.54</text>\n<text text-anchor=\"middle\" x=\"536\" y=\"-268.3\" font-family=\"Helvetica,sans-Serif\" font-size=\"14.00\" fill=\"#000000\">samples = 24</text>\n<text text-anchor=\"middle\" x=\"536\" y=\"-253.3\" font-family=\"Helvetica,sans-Serif\" font-size=\"14.00\" fill=\"#000000\">value = [21, 3]</text>\n<text text-anchor=\"middle\" x=\"536\" y=\"-238.3\" font-family=\"Helvetica,sans-Serif\" font-size=\"14.00\" fill=\"#000000\">class = 0</text>\n</g>\n<!-- 10&#45;&gt;26 -->\n<g id=\"edge14\" class=\"edge\">\n<title>10&#45;&gt;26</title>\n<path fill=\"none\" stroke=\"#000000\" d=\"M491.7831,-341.8796C498.1294,-330.7735 504.9993,-318.7513 511.3891,-307.5691\"/>\n<polygon fill=\"#000000\" stroke=\"#000000\" points=\"514.4689,-309.2339 516.3915,-298.8149 508.3912,-305.7609 514.4689,-309.2339\"/>\n</g>\n<!-- 7 -->\n<g id=\"node17\" class=\"node\">\n<title>7</title>\n<path fill=\"#f0b78e\" stroke=\"#000000\" d=\"M733.5,-425C733.5,-425 632.5,-425 632.5,-425 626.5,-425 620.5,-419 620.5,-413 620.5,-413 620.5,-354 620.5,-354 620.5,-348 626.5,-342 632.5,-342 632.5,-342 733.5,-342 733.5,-342 739.5,-342 745.5,-348 745.5,-354 745.5,-354 745.5,-413 745.5,-413 745.5,-419 739.5,-425 733.5,-425\"/>\n<text text-anchor=\"middle\" x=\"683\" y=\"-409.8\" font-family=\"Helvetica,sans-Serif\" font-size=\"14.00\" fill=\"#000000\">Glucose &lt;= 127.5</text>\n<text text-anchor=\"middle\" x=\"683\" y=\"-394.8\" font-family=\"Helvetica,sans-Serif\" font-size=\"14.00\" fill=\"#000000\">entropy = 0.88</text>\n<text text-anchor=\"middle\" x=\"683\" y=\"-379.8\" font-family=\"Helvetica,sans-Serif\" font-size=\"14.00\" fill=\"#000000\">samples = 93</text>\n<text text-anchor=\"middle\" x=\"683\" y=\"-364.8\" font-family=\"Helvetica,sans-Serif\" font-size=\"14.00\" fill=\"#000000\">value = [65, 28]</text>\n<text text-anchor=\"middle\" x=\"683\" y=\"-349.8\" font-family=\"Helvetica,sans-Serif\" font-size=\"14.00\" fill=\"#000000\">class = 0</text>\n</g>\n<!-- 6&#45;&gt;7 -->\n<g id=\"edge16\" class=\"edge\">\n<title>6&#45;&gt;7</title>\n<path fill=\"none\" stroke=\"#000000\" d=\"M679.0985,-460.8796C679.5117,-452.6838 679.9501,-443.9891 680.3781,-435.5013\"/>\n<polygon fill=\"#000000\" stroke=\"#000000\" points=\"683.8844,-435.4617 680.8925,-425.2981 676.8933,-435.1091 683.8844,-435.4617\"/>\n</g>\n<!-- 8 -->\n<g id=\"node22\" class=\"node\">\n<title>8</title>\n<path fill=\"#e5f2fc\" stroke=\"#000000\" d=\"M1062,-425C1062,-425 860,-425 860,-425 854,-425 848,-419 848,-413 848,-413 848,-354 848,-354 848,-348 854,-342 860,-342 860,-342 1062,-342 1062,-342 1068,-342 1074,-348 1074,-354 1074,-354 1074,-413 1074,-413 1074,-419 1068,-425 1062,-425\"/>\n<text text-anchor=\"middle\" x=\"961\" y=\"-409.8\" font-family=\"Helvetica,sans-Serif\" font-size=\"14.00\" fill=\"#000000\">DiabetesPedigreeFunction &lt;= 0.51</text>\n<text text-anchor=\"middle\" x=\"961\" y=\"-394.8\" font-family=\"Helvetica,sans-Serif\" font-size=\"14.00\" fill=\"#000000\">entropy = 1.0</text>\n<text text-anchor=\"middle\" x=\"961\" y=\"-379.8\" font-family=\"Helvetica,sans-Serif\" font-size=\"14.00\" fill=\"#000000\">samples = 144</text>\n<text text-anchor=\"middle\" x=\"961\" y=\"-364.8\" font-family=\"Helvetica,sans-Serif\" font-size=\"14.00\" fill=\"#000000\">value = [67, 77]</text>\n<text text-anchor=\"middle\" x=\"961\" y=\"-349.8\" font-family=\"Helvetica,sans-Serif\" font-size=\"14.00\" fill=\"#000000\">class = 1</text>\n</g>\n<!-- 6&#45;&gt;8 -->\n<g id=\"edge21\" class=\"edge\">\n<title>6&#45;&gt;8</title>\n<path fill=\"none\" stroke=\"#000000\" d=\"M739.8881,-465.4325C742.9452,-463.8897 745.993,-462.4034 749,-461 777.3578,-447.7647 808.6529,-435.2453 838.2934,-424.2831\"/>\n<polygon fill=\"#000000\" stroke=\"#000000\" points=\"839.668,-427.507 847.853,-420.7797 837.2593,-420.9345 839.668,-427.507\"/>\n</g>\n<!-- 19 -->\n<g id=\"node18\" class=\"node\">\n<title>19</title>\n<path fill=\"#eca06a\" stroke=\"#000000\" d=\"M748,-306C748,-306 618,-306 618,-306 612,-306 606,-300 606,-294 606,-294 606,-235 606,-235 606,-229 612,-223 618,-223 618,-223 748,-223 748,-223 754,-223 760,-229 760,-235 760,-235 760,-294 760,-294 760,-300 754,-306 748,-306\"/>\n<text text-anchor=\"middle\" x=\"683\" y=\"-290.8\" font-family=\"Helvetica,sans-Serif\" font-size=\"14.00\" fill=\"#000000\">SkinThickness &lt;= 29.5</text>\n<text text-anchor=\"middle\" x=\"683\" y=\"-275.8\" font-family=\"Helvetica,sans-Serif\" font-size=\"14.00\" fill=\"#000000\">entropy = 0.72</text>\n<text text-anchor=\"middle\" x=\"683\" y=\"-260.8\" font-family=\"Helvetica,sans-Serif\" font-size=\"14.00\" fill=\"#000000\">samples = 55</text>\n<text text-anchor=\"middle\" x=\"683\" y=\"-245.8\" font-family=\"Helvetica,sans-Serif\" font-size=\"14.00\" fill=\"#000000\">value = [44, 11]</text>\n<text text-anchor=\"middle\" x=\"683\" y=\"-230.8\" font-family=\"Helvetica,sans-Serif\" font-size=\"14.00\" fill=\"#000000\">class = 0</text>\n</g>\n<!-- 7&#45;&gt;19 -->\n<g id=\"edge17\" class=\"edge\">\n<title>7&#45;&gt;19</title>\n<path fill=\"none\" stroke=\"#000000\" d=\"M683,-341.8796C683,-333.6838 683,-324.9891 683,-316.5013\"/>\n<polygon fill=\"#000000\" stroke=\"#000000\" points=\"686.5001,-316.298 683,-306.2981 679.5001,-316.2981 686.5001,-316.298\"/>\n</g>\n<!-- 20 -->\n<g id=\"node21\" class=\"node\">\n<title>20</title>\n<path fill=\"#fae7d9\" stroke=\"#000000\" d=\"M876,-298.5C876,-298.5 790,-298.5 790,-298.5 784,-298.5 778,-292.5 778,-286.5 778,-286.5 778,-242.5 778,-242.5 778,-236.5 784,-230.5 790,-230.5 790,-230.5 876,-230.5 876,-230.5 882,-230.5 888,-236.5 888,-242.5 888,-242.5 888,-286.5 888,-286.5 888,-292.5 882,-298.5 876,-298.5\"/>\n<text text-anchor=\"middle\" x=\"833\" y=\"-283.3\" font-family=\"Helvetica,sans-Serif\" font-size=\"14.00\" fill=\"#000000\">entropy = 0.99</text>\n<text text-anchor=\"middle\" x=\"833\" y=\"-268.3\" font-family=\"Helvetica,sans-Serif\" font-size=\"14.00\" fill=\"#000000\">samples = 38</text>\n<text text-anchor=\"middle\" x=\"833\" y=\"-253.3\" font-family=\"Helvetica,sans-Serif\" font-size=\"14.00\" fill=\"#000000\">value = [21, 17]</text>\n<text text-anchor=\"middle\" x=\"833\" y=\"-238.3\" font-family=\"Helvetica,sans-Serif\" font-size=\"14.00\" fill=\"#000000\">class = 0</text>\n</g>\n<!-- 7&#45;&gt;20 -->\n<g id=\"edge20\" class=\"edge\">\n<title>7&#45;&gt;20</title>\n<path fill=\"none\" stroke=\"#000000\" d=\"M735.4627,-341.8796C750.4322,-330.0038 766.7222,-317.0804 781.6259,-305.2568\"/>\n<polygon fill=\"#000000\" stroke=\"#000000\" points=\"784.087,-307.772 789.7459,-298.8149 779.7365,-302.2881 784.087,-307.772\"/>\n</g>\n<!-- 27 -->\n<g id=\"node19\" class=\"node\">\n<title>27</title>\n<path fill=\"#e89051\" stroke=\"#000000\" d=\"M602,-179.5C602,-179.5 522,-179.5 522,-179.5 516,-179.5 510,-173.5 510,-167.5 510,-167.5 510,-123.5 510,-123.5 510,-117.5 516,-111.5 522,-111.5 522,-111.5 602,-111.5 602,-111.5 608,-111.5 614,-117.5 614,-123.5 614,-123.5 614,-167.5 614,-167.5 614,-173.5 608,-179.5 602,-179.5\"/>\n<text text-anchor=\"middle\" x=\"562\" y=\"-164.3\" font-family=\"Helvetica,sans-Serif\" font-size=\"14.00\" fill=\"#000000\">entropy = 0.49</text>\n<text text-anchor=\"middle\" x=\"562\" y=\"-149.3\" font-family=\"Helvetica,sans-Serif\" font-size=\"14.00\" fill=\"#000000\">samples = 28</text>\n<text text-anchor=\"middle\" x=\"562\" y=\"-134.3\" font-family=\"Helvetica,sans-Serif\" font-size=\"14.00\" fill=\"#000000\">value = [25, 3]</text>\n<text text-anchor=\"middle\" x=\"562\" y=\"-119.3\" font-family=\"Helvetica,sans-Serif\" font-size=\"14.00\" fill=\"#000000\">class = 0</text>\n</g>\n<!-- 19&#45;&gt;27 -->\n<g id=\"edge18\" class=\"edge\">\n<title>19&#45;&gt;27</title>\n<path fill=\"none\" stroke=\"#000000\" d=\"M640.6801,-222.8796C628.8283,-211.2237 615.9505,-198.5587 604.1109,-186.9148\"/>\n<polygon fill=\"#000000\" stroke=\"#000000\" points=\"606.4756,-184.3314 596.8917,-179.8149 601.5673,-189.3223 606.4756,-184.3314\"/>\n</g>\n<!-- 28 -->\n<g id=\"node20\" class=\"node\">\n<title>28</title>\n<path fill=\"#f0b68c\" stroke=\"#000000\" d=\"M724,-179.5C724,-179.5 644,-179.5 644,-179.5 638,-179.5 632,-173.5 632,-167.5 632,-167.5 632,-123.5 632,-123.5 632,-117.5 638,-111.5 644,-111.5 644,-111.5 724,-111.5 724,-111.5 730,-111.5 736,-117.5 736,-123.5 736,-123.5 736,-167.5 736,-167.5 736,-173.5 730,-179.5 724,-179.5\"/>\n<text text-anchor=\"middle\" x=\"684\" y=\"-164.3\" font-family=\"Helvetica,sans-Serif\" font-size=\"14.00\" fill=\"#000000\">entropy = 0.88</text>\n<text text-anchor=\"middle\" x=\"684\" y=\"-149.3\" font-family=\"Helvetica,sans-Serif\" font-size=\"14.00\" fill=\"#000000\">samples = 27</text>\n<text text-anchor=\"middle\" x=\"684\" y=\"-134.3\" font-family=\"Helvetica,sans-Serif\" font-size=\"14.00\" fill=\"#000000\">value = [19, 8]</text>\n<text text-anchor=\"middle\" x=\"684\" y=\"-119.3\" font-family=\"Helvetica,sans-Serif\" font-size=\"14.00\" fill=\"#000000\">class = 0</text>\n</g>\n<!-- 19&#45;&gt;28 -->\n<g id=\"edge19\" class=\"edge\">\n<title>19&#45;&gt;28</title>\n<path fill=\"none\" stroke=\"#000000\" d=\"M683.3498,-222.8796C683.4394,-212.2134 683.5361,-200.7021 683.6269,-189.9015\"/>\n<polygon fill=\"#000000\" stroke=\"#000000\" points=\"687.1274,-189.844 683.7116,-179.8149 680.1276,-189.7851 687.1274,-189.844\"/>\n</g>\n<!-- 11 -->\n<g id=\"node23\" class=\"node\">\n<title>11</title>\n<path fill=\"#f9e2d2\" stroke=\"#000000\" d=\"M1004,-306C1004,-306 918,-306 918,-306 912,-306 906,-300 906,-294 906,-294 906,-235 906,-235 906,-229 912,-223 918,-223 918,-223 1004,-223 1004,-223 1010,-223 1016,-229 1016,-235 1016,-235 1016,-294 1016,-294 1016,-300 1010,-306 1004,-306\"/>\n<text text-anchor=\"middle\" x=\"961\" y=\"-290.8\" font-family=\"Helvetica,sans-Serif\" font-size=\"14.00\" fill=\"#000000\">BMI &#160;&lt;= 33.0</text>\n<text text-anchor=\"middle\" x=\"961\" y=\"-275.8\" font-family=\"Helvetica,sans-Serif\" font-size=\"14.00\" fill=\"#000000\">entropy = 0.99</text>\n<text text-anchor=\"middle\" x=\"961\" y=\"-260.8\" font-family=\"Helvetica,sans-Serif\" font-size=\"14.00\" fill=\"#000000\">samples = 85</text>\n<text text-anchor=\"middle\" x=\"961\" y=\"-245.8\" font-family=\"Helvetica,sans-Serif\" font-size=\"14.00\" fill=\"#000000\">value = [48, 37]</text>\n<text text-anchor=\"middle\" x=\"961\" y=\"-230.8\" font-family=\"Helvetica,sans-Serif\" font-size=\"14.00\" fill=\"#000000\">class = 0</text>\n</g>\n<!-- 8&#45;&gt;11 -->\n<g id=\"edge22\" class=\"edge\">\n<title>8&#45;&gt;11</title>\n<path fill=\"none\" stroke=\"#000000\" d=\"M961,-341.8796C961,-333.6838 961,-324.9891 961,-316.5013\"/>\n<polygon fill=\"#000000\" stroke=\"#000000\" points=\"964.5001,-316.298 961,-306.2981 957.5001,-316.2981 964.5001,-316.298\"/>\n</g>\n<!-- 12 -->\n<g id=\"node30\" class=\"node\">\n<title>12</title>\n<path fill=\"#97ccf1\" stroke=\"#000000\" d=\"M1152,-306C1152,-306 1066,-306 1066,-306 1060,-306 1054,-300 1054,-294 1054,-294 1054,-235 1054,-235 1054,-229 1060,-223 1066,-223 1066,-223 1152,-223 1152,-223 1158,-223 1164,-229 1164,-235 1164,-235 1164,-294 1164,-294 1164,-300 1158,-306 1152,-306\"/>\n<text text-anchor=\"middle\" x=\"1109\" y=\"-290.8\" font-family=\"Helvetica,sans-Serif\" font-size=\"14.00\" fill=\"#000000\">BMI &#160;&lt;= 31.4</text>\n<text text-anchor=\"middle\" x=\"1109\" y=\"-275.8\" font-family=\"Helvetica,sans-Serif\" font-size=\"14.00\" fill=\"#000000\">entropy = 0.91</text>\n<text text-anchor=\"middle\" x=\"1109\" y=\"-260.8\" font-family=\"Helvetica,sans-Serif\" font-size=\"14.00\" fill=\"#000000\">samples = 59</text>\n<text text-anchor=\"middle\" x=\"1109\" y=\"-245.8\" font-family=\"Helvetica,sans-Serif\" font-size=\"14.00\" fill=\"#000000\">value = [19, 40]</text>\n<text text-anchor=\"middle\" x=\"1109\" y=\"-230.8\" font-family=\"Helvetica,sans-Serif\" font-size=\"14.00\" fill=\"#000000\">class = 1</text>\n</g>\n<!-- 8&#45;&gt;12 -->\n<g id=\"edge29\" class=\"edge\">\n<title>8&#45;&gt;12</title>\n<path fill=\"none\" stroke=\"#000000\" d=\"M1012.7632,-341.8796C1024.5928,-332.368 1037.2581,-322.1843 1049.3871,-312.432\"/>\n<polygon fill=\"#000000\" stroke=\"#000000\" points=\"1051.6659,-315.0908 1057.266,-306.0969 1047.2796,-309.6355 1051.6659,-315.0908\"/>\n</g>\n<!-- 29 -->\n<g id=\"node24\" class=\"node\">\n<title>29</title>\n<path fill=\"#ecf6fd\" stroke=\"#000000\" d=\"M853,-187C853,-187 767,-187 767,-187 761,-187 755,-181 755,-175 755,-175 755,-116 755,-116 755,-110 761,-104 767,-104 767,-104 853,-104 853,-104 859,-104 865,-110 865,-116 865,-116 865,-175 865,-175 865,-181 859,-187 853,-187\"/>\n<text text-anchor=\"middle\" x=\"810\" y=\"-171.8\" font-family=\"Helvetica,sans-Serif\" font-size=\"14.00\" fill=\"#000000\">Age &lt;= 37.5</text>\n<text text-anchor=\"middle\" x=\"810\" y=\"-156.8\" font-family=\"Helvetica,sans-Serif\" font-size=\"14.00\" fill=\"#000000\">entropy = 1.0</text>\n<text text-anchor=\"middle\" x=\"810\" y=\"-141.8\" font-family=\"Helvetica,sans-Serif\" font-size=\"14.00\" fill=\"#000000\">samples = 40</text>\n<text text-anchor=\"middle\" x=\"810\" y=\"-126.8\" font-family=\"Helvetica,sans-Serif\" font-size=\"14.00\" fill=\"#000000\">value = [19, 21]</text>\n<text text-anchor=\"middle\" x=\"810\" y=\"-111.8\" font-family=\"Helvetica,sans-Serif\" font-size=\"14.00\" fill=\"#000000\">class = 1</text>\n</g>\n<!-- 11&#45;&gt;29 -->\n<g id=\"edge23\" class=\"edge\">\n<title>11&#45;&gt;29</title>\n<path fill=\"none\" stroke=\"#000000\" d=\"M908.1875,-222.8796C896.1182,-213.368 883.1961,-203.1843 870.8212,-193.432\"/>\n<polygon fill=\"#000000\" stroke=\"#000000\" points=\"872.8032,-190.5377 862.7827,-187.0969 868.4704,-196.0356 872.8032,-190.5377\"/>\n</g>\n<!-- 30 -->\n<g id=\"node27\" class=\"node\">\n<title>30</title>\n<path fill=\"#f3c7a6\" stroke=\"#000000\" d=\"M1026.5,-187C1026.5,-187 895.5,-187 895.5,-187 889.5,-187 883.5,-181 883.5,-175 883.5,-175 883.5,-116 883.5,-116 883.5,-110 889.5,-104 895.5,-104 895.5,-104 1026.5,-104 1026.5,-104 1032.5,-104 1038.5,-110 1038.5,-116 1038.5,-116 1038.5,-175 1038.5,-175 1038.5,-181 1032.5,-187 1026.5,-187\"/>\n<text text-anchor=\"middle\" x=\"961\" y=\"-171.8\" font-family=\"Helvetica,sans-Serif\" font-size=\"14.00\" fill=\"#000000\">BloodPressure &lt;= 77.0</text>\n<text text-anchor=\"middle\" x=\"961\" y=\"-156.8\" font-family=\"Helvetica,sans-Serif\" font-size=\"14.00\" fill=\"#000000\">entropy = 0.94</text>\n<text text-anchor=\"middle\" x=\"961\" y=\"-141.8\" font-family=\"Helvetica,sans-Serif\" font-size=\"14.00\" fill=\"#000000\">samples = 45</text>\n<text text-anchor=\"middle\" x=\"961\" y=\"-126.8\" font-family=\"Helvetica,sans-Serif\" font-size=\"14.00\" fill=\"#000000\">value = [29, 16]</text>\n<text text-anchor=\"middle\" x=\"961\" y=\"-111.8\" font-family=\"Helvetica,sans-Serif\" font-size=\"14.00\" fill=\"#000000\">class = 0</text>\n</g>\n<!-- 11&#45;&gt;30 -->\n<g id=\"edge26\" class=\"edge\">\n<title>11&#45;&gt;30</title>\n<path fill=\"none\" stroke=\"#000000\" d=\"M961,-222.8796C961,-214.6838 961,-205.9891 961,-197.5013\"/>\n<polygon fill=\"#000000\" stroke=\"#000000\" points=\"964.5001,-197.298 961,-187.2981 957.5001,-197.2981 964.5001,-197.298\"/>\n</g>\n<!-- 35 -->\n<g id=\"node25\" class=\"node\">\n<title>35</title>\n<path fill=\"#dbedfa\" stroke=\"#000000\" d=\"M732,-68C732,-68 652,-68 652,-68 646,-68 640,-62 640,-56 640,-56 640,-12 640,-12 640,-6 646,0 652,0 652,0 732,0 732,0 738,0 744,-6 744,-12 744,-12 744,-56 744,-56 744,-62 738,-68 732,-68\"/>\n<text text-anchor=\"middle\" x=\"692\" y=\"-52.8\" font-family=\"Helvetica,sans-Serif\" font-size=\"14.00\" fill=\"#000000\">entropy = 0.99</text>\n<text text-anchor=\"middle\" x=\"692\" y=\"-37.8\" font-family=\"Helvetica,sans-Serif\" font-size=\"14.00\" fill=\"#000000\">samples = 20</text>\n<text text-anchor=\"middle\" x=\"692\" y=\"-22.8\" font-family=\"Helvetica,sans-Serif\" font-size=\"14.00\" fill=\"#000000\">value = [9, 11]</text>\n<text text-anchor=\"middle\" x=\"692\" y=\"-7.8\" font-family=\"Helvetica,sans-Serif\" font-size=\"14.00\" fill=\"#000000\">class = 1</text>\n</g>\n<!-- 29&#45;&gt;35 -->\n<g id=\"edge24\" class=\"edge\">\n<title>29&#45;&gt;35</title>\n<path fill=\"none\" stroke=\"#000000\" d=\"M766.0612,-103.9815C756.1402,-94.607 745.6103,-84.6572 735.6992,-75.2921\"/>\n<polygon fill=\"#000000\" stroke=\"#000000\" points=\"737.9334,-72.5878 728.2611,-68.2637 733.1257,-77.6757 737.9334,-72.5878\"/>\n</g>\n<!-- 36 -->\n<g id=\"node26\" class=\"node\">\n<title>36</title>\n<path fill=\"#ffffff\" stroke=\"#000000\" d=\"M860,-68C860,-68 774,-68 774,-68 768,-68 762,-62 762,-56 762,-56 762,-12 762,-12 762,-6 768,0 774,0 774,0 860,0 860,0 866,0 872,-6 872,-12 872,-12 872,-56 872,-56 872,-62 866,-68 860,-68\"/>\n<text text-anchor=\"middle\" x=\"817\" y=\"-52.8\" font-family=\"Helvetica,sans-Serif\" font-size=\"14.00\" fill=\"#000000\">entropy = 1.0</text>\n<text text-anchor=\"middle\" x=\"817\" y=\"-37.8\" font-family=\"Helvetica,sans-Serif\" font-size=\"14.00\" fill=\"#000000\">samples = 20</text>\n<text text-anchor=\"middle\" x=\"817\" y=\"-22.8\" font-family=\"Helvetica,sans-Serif\" font-size=\"14.00\" fill=\"#000000\">value = [10, 10]</text>\n<text text-anchor=\"middle\" x=\"817\" y=\"-7.8\" font-family=\"Helvetica,sans-Serif\" font-size=\"14.00\" fill=\"#000000\">class = 0</text>\n</g>\n<!-- 29&#45;&gt;36 -->\n<g id=\"edge25\" class=\"edge\">\n<title>29&#45;&gt;36</title>\n<path fill=\"none\" stroke=\"#000000\" d=\"M812.6065,-103.9815C813.1316,-95.618 813.6854,-86.7965 814.2163,-78.3409\"/>\n<polygon fill=\"#000000\" stroke=\"#000000\" points=\"817.7154,-78.4634 814.8489,-68.2637 810.7291,-78.0247 817.7154,-78.4634\"/>\n</g>\n<!-- 31 -->\n<g id=\"node28\" class=\"node\">\n<title>31</title>\n<path fill=\"#eeab7b\" stroke=\"#000000\" d=\"M995,-68C995,-68 915,-68 915,-68 909,-68 903,-62 903,-56 903,-56 903,-12 903,-12 903,-6 909,0 915,0 915,0 995,0 995,0 1001,0 1007,-6 1007,-12 1007,-12 1007,-56 1007,-56 1007,-62 1001,-68 995,-68\"/>\n<text text-anchor=\"middle\" x=\"955\" y=\"-52.8\" font-family=\"Helvetica,sans-Serif\" font-size=\"14.00\" fill=\"#000000\">entropy = 0.81</text>\n<text text-anchor=\"middle\" x=\"955\" y=\"-37.8\" font-family=\"Helvetica,sans-Serif\" font-size=\"14.00\" fill=\"#000000\">samples = 24</text>\n<text text-anchor=\"middle\" x=\"955\" y=\"-22.8\" font-family=\"Helvetica,sans-Serif\" font-size=\"14.00\" fill=\"#000000\">value = [18, 6]</text>\n<text text-anchor=\"middle\" x=\"955\" y=\"-7.8\" font-family=\"Helvetica,sans-Serif\" font-size=\"14.00\" fill=\"#000000\">class = 0</text>\n</g>\n<!-- 30&#45;&gt;31 -->\n<g id=\"edge27\" class=\"edge\">\n<title>30&#45;&gt;31</title>\n<path fill=\"none\" stroke=\"#000000\" d=\"M958.7658,-103.9815C958.3158,-95.618 957.8411,-86.7965 957.3861,-78.3409\"/>\n<polygon fill=\"#000000\" stroke=\"#000000\" points=\"960.8762,-78.0611 956.8438,-68.2637 953.8863,-78.4373 960.8762,-78.0611\"/>\n</g>\n<!-- 32 -->\n<g id=\"node29\" class=\"node\">\n<title>32</title>\n<path fill=\"#fdf4ed\" stroke=\"#000000\" d=\"M1123,-68C1123,-68 1037,-68 1037,-68 1031,-68 1025,-62 1025,-56 1025,-56 1025,-12 1025,-12 1025,-6 1031,0 1037,0 1037,0 1123,0 1123,0 1129,0 1135,-6 1135,-12 1135,-12 1135,-56 1135,-56 1135,-62 1129,-68 1123,-68\"/>\n<text text-anchor=\"middle\" x=\"1080\" y=\"-52.8\" font-family=\"Helvetica,sans-Serif\" font-size=\"14.00\" fill=\"#000000\">entropy = 1.0</text>\n<text text-anchor=\"middle\" x=\"1080\" y=\"-37.8\" font-family=\"Helvetica,sans-Serif\" font-size=\"14.00\" fill=\"#000000\">samples = 21</text>\n<text text-anchor=\"middle\" x=\"1080\" y=\"-22.8\" font-family=\"Helvetica,sans-Serif\" font-size=\"14.00\" fill=\"#000000\">value = [11, 10]</text>\n<text text-anchor=\"middle\" x=\"1080\" y=\"-7.8\" font-family=\"Helvetica,sans-Serif\" font-size=\"14.00\" fill=\"#000000\">class = 0</text>\n</g>\n<!-- 30&#45;&gt;32 -->\n<g id=\"edge28\" class=\"edge\">\n<title>30&#45;&gt;32</title>\n<path fill=\"none\" stroke=\"#000000\" d=\"M1005.3112,-103.9815C1015.3163,-94.607 1025.9354,-84.6572 1035.9304,-75.2921\"/>\n<polygon fill=\"#000000\" stroke=\"#000000\" points=\"1038.5274,-77.6551 1043.4316,-68.2637 1033.7412,-72.547 1038.5274,-77.6551\"/>\n</g>\n<!-- 15 -->\n<g id=\"node31\" class=\"node\">\n<title>15</title>\n<path fill=\"#fae8db\" stroke=\"#000000\" d=\"M1149,-179.5C1149,-179.5 1069,-179.5 1069,-179.5 1063,-179.5 1057,-173.5 1057,-167.5 1057,-167.5 1057,-123.5 1057,-123.5 1057,-117.5 1063,-111.5 1069,-111.5 1069,-111.5 1149,-111.5 1149,-111.5 1155,-111.5 1161,-117.5 1161,-123.5 1161,-123.5 1161,-167.5 1161,-167.5 1161,-173.5 1155,-179.5 1149,-179.5\"/>\n<text text-anchor=\"middle\" x=\"1109\" y=\"-164.3\" font-family=\"Helvetica,sans-Serif\" font-size=\"14.00\" fill=\"#000000\">entropy = 0.99</text>\n<text text-anchor=\"middle\" x=\"1109\" y=\"-149.3\" font-family=\"Helvetica,sans-Serif\" font-size=\"14.00\" fill=\"#000000\">samples = 20</text>\n<text text-anchor=\"middle\" x=\"1109\" y=\"-134.3\" font-family=\"Helvetica,sans-Serif\" font-size=\"14.00\" fill=\"#000000\">value = [11, 9]</text>\n<text text-anchor=\"middle\" x=\"1109\" y=\"-119.3\" font-family=\"Helvetica,sans-Serif\" font-size=\"14.00\" fill=\"#000000\">class = 0</text>\n</g>\n<!-- 12&#45;&gt;15 -->\n<g id=\"edge30\" class=\"edge\">\n<title>12&#45;&gt;15</title>\n<path fill=\"none\" stroke=\"#000000\" d=\"M1109,-222.8796C1109,-212.2134 1109,-200.7021 1109,-189.9015\"/>\n<polygon fill=\"#000000\" stroke=\"#000000\" points=\"1112.5001,-189.8149 1109,-179.8149 1105.5001,-189.815 1112.5001,-189.8149\"/>\n</g>\n<!-- 16 -->\n<g id=\"node32\" class=\"node\">\n<title>16</title>\n<path fill=\"#6cb6ec\" stroke=\"#000000\" d=\"M1271,-179.5C1271,-179.5 1191,-179.5 1191,-179.5 1185,-179.5 1179,-173.5 1179,-167.5 1179,-167.5 1179,-123.5 1179,-123.5 1179,-117.5 1185,-111.5 1191,-111.5 1191,-111.5 1271,-111.5 1271,-111.5 1277,-111.5 1283,-117.5 1283,-123.5 1283,-123.5 1283,-167.5 1283,-167.5 1283,-173.5 1277,-179.5 1271,-179.5\"/>\n<text text-anchor=\"middle\" x=\"1231\" y=\"-164.3\" font-family=\"Helvetica,sans-Serif\" font-size=\"14.00\" fill=\"#000000\">entropy = 0.73</text>\n<text text-anchor=\"middle\" x=\"1231\" y=\"-149.3\" font-family=\"Helvetica,sans-Serif\" font-size=\"14.00\" fill=\"#000000\">samples = 39</text>\n<text text-anchor=\"middle\" x=\"1231\" y=\"-134.3\" font-family=\"Helvetica,sans-Serif\" font-size=\"14.00\" fill=\"#000000\">value = [8, 31]</text>\n<text text-anchor=\"middle\" x=\"1231\" y=\"-119.3\" font-family=\"Helvetica,sans-Serif\" font-size=\"14.00\" fill=\"#000000\">class = 1</text>\n</g>\n<!-- 12&#45;&gt;16 -->\n<g id=\"edge31\" class=\"edge\">\n<title>12&#45;&gt;16</title>\n<path fill=\"none\" stroke=\"#000000\" d=\"M1151.6697,-222.8796C1163.6194,-211.2237 1176.6037,-198.5587 1188.5411,-186.9148\"/>\n<polygon fill=\"#000000\" stroke=\"#000000\" points=\"1191.1053,-189.303 1195.82,-179.8149 1186.2175,-184.292 1191.1053,-189.303\"/>\n</g>\n<!-- 13 -->\n<g id=\"node34\" class=\"node\">\n<title>13</title>\n<path fill=\"#add7f4\" stroke=\"#000000\" d=\"M720,-655.5C720,-655.5 634,-655.5 634,-655.5 628,-655.5 622,-649.5 622,-643.5 622,-643.5 622,-599.5 622,-599.5 622,-593.5 628,-587.5 634,-587.5 634,-587.5 720,-587.5 720,-587.5 726,-587.5 732,-593.5 732,-599.5 732,-599.5 732,-643.5 732,-643.5 732,-649.5 726,-655.5 720,-655.5\"/>\n<text text-anchor=\"middle\" x=\"677\" y=\"-640.3\" font-family=\"Helvetica,sans-Serif\" font-size=\"14.00\" fill=\"#000000\">entropy = 0.95</text>\n<text text-anchor=\"middle\" x=\"677\" y=\"-625.3\" font-family=\"Helvetica,sans-Serif\" font-size=\"14.00\" fill=\"#000000\">samples = 27</text>\n<text text-anchor=\"middle\" x=\"677\" y=\"-610.3\" font-family=\"Helvetica,sans-Serif\" font-size=\"14.00\" fill=\"#000000\">value = [10, 17]</text>\n<text text-anchor=\"middle\" x=\"677\" y=\"-595.3\" font-family=\"Helvetica,sans-Serif\" font-size=\"14.00\" fill=\"#000000\">class = 1</text>\n</g>\n<!-- 2&#45;&gt;13 -->\n<g id=\"edge33\" class=\"edge\">\n<title>2&#45;&gt;13</title>\n<path fill=\"none\" stroke=\"#000000\" d=\"M677,-698.8796C677,-688.2134 677,-676.7021 677,-665.9015\"/>\n<polygon fill=\"#000000\" stroke=\"#000000\" points=\"680.5001,-665.8149 677,-655.8149 673.5001,-665.815 680.5001,-665.8149\"/>\n</g>\n<!-- 14 -->\n<g id=\"node35\" class=\"node\">\n<title>14</title>\n<path fill=\"#51a9e8\" stroke=\"#000000\" d=\"M854.5,-663C854.5,-663 765.5,-663 765.5,-663 759.5,-663 753.5,-657 753.5,-651 753.5,-651 753.5,-592 753.5,-592 753.5,-586 759.5,-580 765.5,-580 765.5,-580 854.5,-580 854.5,-580 860.5,-580 866.5,-586 866.5,-592 866.5,-592 866.5,-651 866.5,-651 866.5,-657 860.5,-663 854.5,-663\"/>\n<text text-anchor=\"middle\" x=\"810\" y=\"-647.8\" font-family=\"Helvetica,sans-Serif\" font-size=\"14.00\" fill=\"#000000\">Insulin &lt;= 201.0</text>\n<text text-anchor=\"middle\" x=\"810\" y=\"-632.8\" font-family=\"Helvetica,sans-Serif\" font-size=\"14.00\" fill=\"#000000\">entropy = 0.49</text>\n<text text-anchor=\"middle\" x=\"810\" y=\"-617.8\" font-family=\"Helvetica,sans-Serif\" font-size=\"14.00\" fill=\"#000000\">samples = 56</text>\n<text text-anchor=\"middle\" x=\"810\" y=\"-602.8\" font-family=\"Helvetica,sans-Serif\" font-size=\"14.00\" fill=\"#000000\">value = [6, 50]</text>\n<text text-anchor=\"middle\" x=\"810\" y=\"-587.8\" font-family=\"Helvetica,sans-Serif\" font-size=\"14.00\" fill=\"#000000\">class = 1</text>\n</g>\n<!-- 2&#45;&gt;14 -->\n<g id=\"edge34\" class=\"edge\">\n<title>2&#45;&gt;14</title>\n<path fill=\"none\" stroke=\"#000000\" d=\"M723.5169,-698.8796C733.8848,-689.6031 744.9671,-679.6874 755.6199,-670.1559\"/>\n<polygon fill=\"#000000\" stroke=\"#000000\" points=\"758.1659,-672.5744 763.2845,-663.2981 753.4983,-667.3577 758.1659,-672.5744\"/>\n</g>\n<!-- 17 -->\n<g id=\"node36\" class=\"node\">\n<title>17</title>\n<path fill=\"#3fa0e6\" stroke=\"#000000\" d=\"M850,-536.5C850,-536.5 770,-536.5 770,-536.5 764,-536.5 758,-530.5 758,-524.5 758,-524.5 758,-480.5 758,-480.5 758,-474.5 764,-468.5 770,-468.5 770,-468.5 850,-468.5 850,-468.5 856,-468.5 862,-474.5 862,-480.5 862,-480.5 862,-524.5 862,-524.5 862,-530.5 856,-536.5 850,-536.5\"/>\n<text text-anchor=\"middle\" x=\"810\" y=\"-521.3\" font-family=\"Helvetica,sans-Serif\" font-size=\"14.00\" fill=\"#000000\">entropy = 0.18</text>\n<text text-anchor=\"middle\" x=\"810\" y=\"-506.3\" font-family=\"Helvetica,sans-Serif\" font-size=\"14.00\" fill=\"#000000\">samples = 36</text>\n<text text-anchor=\"middle\" x=\"810\" y=\"-491.3\" font-family=\"Helvetica,sans-Serif\" font-size=\"14.00\" fill=\"#000000\">value = [1, 35]</text>\n<text text-anchor=\"middle\" x=\"810\" y=\"-476.3\" font-family=\"Helvetica,sans-Serif\" font-size=\"14.00\" fill=\"#000000\">class = 1</text>\n</g>\n<!-- 14&#45;&gt;17 -->\n<g id=\"edge35\" class=\"edge\">\n<title>14&#45;&gt;17</title>\n<path fill=\"none\" stroke=\"#000000\" d=\"M810,-579.8796C810,-569.2134 810,-557.7021 810,-546.9015\"/>\n<polygon fill=\"#000000\" stroke=\"#000000\" points=\"813.5001,-546.8149 810,-536.8149 806.5001,-546.815 813.5001,-546.8149\"/>\n</g>\n<!-- 18 -->\n<g id=\"node37\" class=\"node\">\n<title>18</title>\n<path fill=\"#7bbeee\" stroke=\"#000000\" d=\"M972,-536.5C972,-536.5 892,-536.5 892,-536.5 886,-536.5 880,-530.5 880,-524.5 880,-524.5 880,-480.5 880,-480.5 880,-474.5 886,-468.5 892,-468.5 892,-468.5 972,-468.5 972,-468.5 978,-468.5 984,-474.5 984,-480.5 984,-480.5 984,-524.5 984,-524.5 984,-530.5 978,-536.5 972,-536.5\"/>\n<text text-anchor=\"middle\" x=\"932\" y=\"-521.3\" font-family=\"Helvetica,sans-Serif\" font-size=\"14.00\" fill=\"#000000\">entropy = 0.81</text>\n<text text-anchor=\"middle\" x=\"932\" y=\"-506.3\" font-family=\"Helvetica,sans-Serif\" font-size=\"14.00\" fill=\"#000000\">samples = 20</text>\n<text text-anchor=\"middle\" x=\"932\" y=\"-491.3\" font-family=\"Helvetica,sans-Serif\" font-size=\"14.00\" fill=\"#000000\">value = [5, 15]</text>\n<text text-anchor=\"middle\" x=\"932\" y=\"-476.3\" font-family=\"Helvetica,sans-Serif\" font-size=\"14.00\" fill=\"#000000\">class = 1</text>\n</g>\n<!-- 14&#45;&gt;18 -->\n<g id=\"edge36\" class=\"edge\">\n<title>14&#45;&gt;18</title>\n<path fill=\"none\" stroke=\"#000000\" d=\"M852.6697,-579.8796C864.6194,-568.2237 877.6037,-555.5587 889.5411,-543.9148\"/>\n<polygon fill=\"#000000\" stroke=\"#000000\" points=\"892.1053,-546.303 896.82,-536.8149 887.2175,-541.292 892.1053,-546.303\"/>\n</g>\n</g>\n</svg>\n"
     },
     "metadata": {},
     "output_type": "execute_result",
     "execution_count": 10
    }
   ],
   "source": [
    "from sklearn.tree import export_graphviz\n",
    "import graphviz\n",
    "columns = list(x.columns)\n",
    "export_graphviz(clf, out_file='tree.dot', \n",
    "                feature_names=columns,\n",
    "                class_names=['0', '1'],\n",
    "                rounded = True, proportion = False, \n",
    "                precision = 2, filled = True, label='all')\n",
    "\n",
    "with open('tree.dot') as f:\n",
    "    dot_graph = f.read()\n",
    "\n",
    "graphviz.Source(dot_graph)"
   ]
  },
  {
   "cell_type": "markdown",
   "metadata": {},
   "source": [
    "Выводим глубину дерева:"
   ]
  },
  {
   "cell_type": "code",
   "execution_count": 11,
   "metadata": {
    "pycharm": {
     "is_executing": false
    }
   },
   "outputs": [
    {
     "data": {
      "text/plain": "7"
     },
     "metadata": {},
     "output_type": "execute_result",
     "execution_count": 11
    }
   ],
   "source": [
    "clf.tree_.max_depth"
   ]
  },
  {
   "cell_type": "markdown",
   "metadata": {},
   "source": [
    "Выполняем предсказание для объектов из тестовой выборки:"
   ]
  },
  {
   "cell_type": "code",
   "execution_count": 12,
   "metadata": {
    "pycharm": {
     "is_executing": false
    }
   },
   "outputs": [],
   "source": [
    "features = list(test.columns[:8])\n",
    "x = test[features]\n",
    "y_true = test['Outcome']\n",
    "y_pred = clf.predict(x)"
   ]
  },
  {
   "cell_type": "markdown",
   "metadata": {},
   "source": [
    "Доля правильных ответов классификатора:"
   ]
  },
  {
   "cell_type": "code",
   "execution_count": 13,
   "metadata": {
    "pycharm": {
     "is_executing": false
    }
   },
   "outputs": [
    {
     "data": {
      "text/plain": "0.8"
     },
     "metadata": {},
     "output_type": "execute_result",
     "execution_count": 13
    }
   ],
   "source": [
    "from sklearn.metrics import accuracy_score\n",
    "accuracy_score(y_true, y_pred)"
   ]
  },
  {
   "cell_type": "markdown",
   "metadata": {},
   "source": [
    "Среднее значение метрик $F_1$ (Macro-F1):"
   ]
  },
  {
   "cell_type": "code",
   "execution_count": 14,
   "metadata": {
    "pycharm": {
     "is_executing": false
    }
   },
   "outputs": [
    {
     "data": {
      "text/plain": "0.7305484693877551"
     },
     "metadata": {},
     "output_type": "execute_result",
     "execution_count": 14
    }
   ],
   "source": [
    "from sklearn.metrics import f1_score\n",
    "f1_score(y_true, y_pred, average='macro')"
   ]
  },
  {
   "cell_type": "markdown",
   "metadata": {},
   "source": [
    "Выполним предсказание для конкретного объекта (с индексом 708) исходных данных:"
   ]
  },
  {
   "cell_type": "code",
   "execution_count": 15,
   "metadata": {
    "pycharm": {
     "is_executing": false
    }
   },
   "outputs": [
    {
     "data": {
      "text/plain": "Pregnancies                   3.0\nGlucose                     102.0\nBloodPressure                44.0\nSkinThickness                20.0\nInsulin                      94.0\nBMI                          30.8\nDiabetesPedigreeFunction      0.4\nAge                          26.0\nName: 741, dtype: float64"
     },
     "metadata": {},
     "output_type": "execute_result",
     "execution_count": 15
    }
   ],
   "source": [
    "df.loc[741, features]"
   ]
  },
  {
   "cell_type": "markdown",
   "metadata": {},
   "source": [
    "Назначенный класс:"
   ]
  },
  {
   "cell_type": "code",
   "execution_count": 16,
   "metadata": {
    "pycharm": {
     "is_executing": false
    }
   },
   "outputs": [
    {
     "data": {
      "text/plain": "0"
     },
     "metadata": {},
     "output_type": "execute_result",
     "execution_count": 16
    }
   ],
   "source": [
    "clf.predict([df.loc[741, features].tolist()])[0]"
   ]
  },
  {
   "cell_type": "code",
   "execution_count": 16,
   "metadata": {
    "pycharm": {
     "is_executing": false
    }
   },
   "outputs": [],
   "source": []
  }
 ],
 "metadata": {
  "kernelspec": {
   "display_name": "Python 3",
   "language": "python",
   "name": "python3"
  },
  "language_info": {
   "codemirror_mode": {
    "name": "ipython",
    "version": 3
   },
   "file_extension": ".py",
   "mimetype": "text/x-python",
   "name": "python",
   "nbconvert_exporter": "python",
   "pygments_lexer": "ipython3",
   "version": "3.6.9"
  }
 },
 "nbformat": 4,
 "nbformat_minor": 4
}